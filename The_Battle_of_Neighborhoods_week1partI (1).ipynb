{
 "cells": [
  {
   "cell_type": "markdown",
   "metadata": {},
   "source": [
    "## **Peer-graded Assignment: Capstone Project - The Battle of Neighborhoods (Week 1)  part 1** "
   ]
  },
  {
   "cell_type": "markdown",
   "metadata": {},
   "source": [
    "#### Objective: \n",
    "#####  Clearly define a problem or an idea of your choice, where you would need to leverage the Foursquare location data to solve or execute. Remember that data science problems always target an audience and are meant to help a group of stakeholders solve a problem, so make sure that you explicitly describe your audience and why they would care about your problem."
   ]
  },
  {
   "cell_type": "markdown",
   "metadata": {},
   "source": [
    "\n"
   ]
  },
  {
   "cell_type": "markdown",
   "metadata": {},
   "source": [
    "##### In my Peer-graded Assignment: Capstone Project - The Battle of Neighborhoods (Week 1) I decided to focus on London city. In this project I will focus on analyzing which area in London has the most amount of vegan restaurants. To do so I will use Foursquare location data. "
   ]
  },
  {
   "cell_type": "markdown",
   "metadata": {},
   "source": [
    " \n",
    " "
   ]
  },
  {
   "cell_type": "markdown",
   "metadata": {},
   "source": [
    "##### Idea: Mapping all vegan restaurants in London city area. Checking which areas have the most amount of this types restaurants. Presenting the trends and selection of the vegan restaurants. "
   ]
  },
  {
   "cell_type": "markdown",
   "metadata": {},
   "source": [
    "#####  London currently has 152 vegan restaurants and it was the first city on HappyCow to have more than 100 completely vegan restaurants in 2017. According to a survey by finder.com, the number of vegans in the UK is set to skyrocket by 327% by 2020. According to The Vegan Society's larger survey, the number of vegans quadrupled from 2014–18; in 2018 there were approximately 600,000 vegans in the UK, equivalent to 1.16% of the British population as a whole.\n",
    "##### Vegan restaurants are not only for vegans. Anyone can from time to time try something more veggie based.\n",
    "##### Heaving a mapped out locations with the vegan restaurants could help costumers with planing their journey and even discover some new places. Very convenient of planing a meeting or a take away. Vegans could also find it useful allowing them relax and just simply enjoy the fact that they can check out everything on the menu. "
   ]
  },
  {
   "cell_type": "markdown",
   "metadata": {},
   "source": [
    "##### Summation of the project:\n",
    "\n",
    "##### * extracting London postal districts information from a Wikipedia web-page:\n",
    "https://en.wikipedia.org/wiki/London_postal_district\n",
    "##### * adding the longitude and latitude to each postcode out-codes in London. These data were donloaded from Freemaptools.com\n",
    "https://www.freemaptools.com/download-uk-postcode-lat-lng.htm\n",
    "##### * producing a map of London including district informations.  \n",
    "##### * connecting to Foursquare depository and collecting the data about vegan restaurants \n",
    "##### * getting trending venues\n",
    "##### * collecting statistics and displaying results\n",
    "##### * conclusion "
   ]
  },
  {
   "cell_type": "markdown",
   "metadata": {},
   "source": [
    "\n"
   ]
  },
  {
   "cell_type": "markdown",
   "metadata": {},
   "source": [
    "##### In effect vegan restaurants in London will be mapped out and the most \"veganised\" area will be discovered. "
   ]
  }
 ],
 "metadata": {
  "kernelspec": {
   "display_name": "Python",
   "language": "python",
   "name": "conda-env-python-py"
  },
  "language_info": {
   "codemirror_mode": {
    "name": "ipython",
    "version": 3
   },
   "file_extension": ".py",
   "mimetype": "text/x-python",
   "name": "python",
   "nbconvert_exporter": "python",
   "pygments_lexer": "ipython3",
   "version": "3.6.10"
  }
 },
 "nbformat": 4,
 "nbformat_minor": 4
}
