{
 "cells": [
  {
   "cell_type": "markdown",
   "metadata": {},
   "source": [
    "## Peer-graded Assignment: Capstone Project - The Battle of Neighborhoods (Week 1)  part 2 "
   ]
  },
  {
   "cell_type": "markdown",
   "metadata": {},
   "source": [
    "#### My project:"
   ]
  },
  {
   "cell_type": "markdown",
   "metadata": {},
   "source": [
    "##### In my Peer-graded Assignment: Capstone Project - The Battle of Neighborhoods (Week 1) I decided to focus on London city. In this project I will focus on analyzing which area in London has the most amount of vegan restaurants. To do so I will use Foursquare location data. \n",
    "##### In the part 2 of week one I will focus on cleaning up and preparing data for analysis. "
   ]
  },
  {
   "cell_type": "markdown",
   "metadata": {},
   "source": [
    "##### This step composes of 4 parts. In part 1) I will extract data from the wikipedia pages of each Postal District. After saving them in the regular data frames in step 2) I will append them together into ultimate London Postcodes data frame. In step 3 I will upload the postcode location information and join it with created table in step 2). Last step 4) will focus on gathering vegan restaurants location data from Foursquare and mapping it. With completed steps my data will be ready for statistical analysis. "
   ]
  },
  {
   "cell_type": "markdown",
   "metadata": {},
   "source": [
    "###### Steps:\n",
    "###### 1) Postal Areas \n",
    "###### 2) London Database\n",
    "###### 3) Geo-location Data\n",
    "###### 4) Foursquare "
   ]
  },
  {
   "cell_type": "markdown",
   "metadata": {},
   "source": [
    "### Downloading the libraries:  \n",
    "##### Beautifulsoup4 will help me with data extraction from a html file.\n",
    "##### Installing html5lib libraries\n",
    "##### Installing request library(Python HTTP library)"
   ]
  },
  {
   "cell_type": "code",
   "execution_count": 6,
   "metadata": {},
   "outputs": [
    {
     "name": "stdout",
     "output_type": "stream",
     "text": [
      "Requirement already satisfied: beautifulsoup4 in /home/jupyterlab/conda/envs/python/lib/python3.6/site-packages (4.9.1)\n",
      "Requirement already satisfied: soupsieve>1.2 in /home/jupyterlab/conda/envs/python/lib/python3.6/site-packages (from beautifulsoup4) (2.0.1)\n",
      "WARNING: The easy_install command is deprecated and will be removed in a future version.\n",
      "Searching for html5lib\n",
      "Best match: html5lib 0.9999999\n",
      "Adding html5lib 0.9999999 to easy-install.pth file\n",
      "\n",
      "Using /home/jupyterlab/conda/envs/python/lib/python3.6/site-packages\n",
      "Processing dependencies for html5lib\n",
      "Finished processing dependencies for html5lib\n",
      "Requirement already satisfied: request in /home/jupyterlab/conda/envs/python/lib/python3.6/site-packages (0.0.0)\n",
      "Requirement already satisfied: get in /home/jupyterlab/conda/envs/python/lib/python3.6/site-packages (from request) (0.0.0)\n",
      "Requirement already satisfied: post in /home/jupyterlab/conda/envs/python/lib/python3.6/site-packages (from request) (0.0.0)\n",
      "Requirement already satisfied: query-string in /home/jupyterlab/conda/envs/python/lib/python3.6/site-packages (from get->request) (0.0.0)\n",
      "Requirement already satisfied: lxml in /home/jupyterlab/conda/envs/python/lib/python3.6/site-packages (4.5.1)\n"
     ]
    }
   ],
   "source": [
    "!pip install beautifulsoup4  #Beautifulsoup4 \n",
    "!easy_install html5lib       #html5lib\n",
    "!pip install request         #request library\n",
    "!pip install lxml            #lxml"
   ]
  },
  {
   "cell_type": "markdown",
   "metadata": {},
   "source": [
    "##### Importing all important packages for starting data extraction and processing. "
   ]
  },
  {
   "cell_type": "code",
   "execution_count": 7,
   "metadata": {},
   "outputs": [
    {
     "name": "stdout",
     "output_type": "stream",
     "text": [
      "Collecting package metadata (current_repodata.json): done\n",
      "Solving environment: done\n",
      "\n",
      "# All requested packages already installed.\n",
      "\n",
      "Collecting package metadata (current_repodata.json): done\n",
      "Solving environment: done\n",
      "\n",
      "# All requested packages already installed.\n",
      "\n"
     ]
    }
   ],
   "source": [
    "from bs4 import BeautifulSoup\n",
    "import requests\n",
    "import lxml\n",
    "import pandas as pd\n",
    "import numpy as np\n",
    "!conda install -c conda-forge geopy --yes \n",
    "from geopy.geocoders import Nominatim # module to convert an address into latitude and longitude values\n",
    "# libraries for displaying images\n",
    "from IPython.display import Image \n",
    "from IPython.core.display import HTML \n",
    "# tranforming json file into a pandas dataframe library\n",
    "from pandas.io.json import json_normalize\n",
    "!conda install -c conda-forge folium=0.5.0 --yes\n",
    "import folium # plotting library"
   ]
  },
  {
   "cell_type": "markdown",
   "metadata": {},
   "source": [
    "# Step 1) Postal Areas"
   ]
  },
  {
   "cell_type": "markdown",
   "metadata": {},
   "source": [
    " "
   ]
  },
  {
   "cell_type": "markdown",
   "metadata": {},
   "source": [
    "##### In 2015 London was 32nd largest city in the world. The London postal district is the area in England, United Kingdom of 241 square miles (620 km^2). This contributed to a complicated postal system.\n",
    "##### Generally London postal district area is divided into 8 parts (clockwise): \n",
    "###### E  - Eastern, \n",
    "###### EC - Eastern Central, \n",
    "###### SE - South Eastern, \n",
    "###### SW - South Western\n",
    "###### WC - Western Central\n",
    "###### W  - Western, \n",
    "###### NW - North Western, \n",
    "###### N  - Northern.\n",
    "\n",
    "##### For clarity I will process each individual postal district separately and append it to a collective data base. Each of the postal districts have a designated wikipedia web-page, from which I will obtain the postal data. After creating ultimate London post code database I will assign longitude and latitude to each of the out-codes."
   ]
  },
  {
   "cell_type": "markdown",
   "metadata": {},
   "source": [
    "### Starting with the Eastern postal district:"
   ]
  },
  {
   "cell_type": "markdown",
   "metadata": {},
   "source": [
    "##### The web-page was saved in the save depository in Jupyter noteboks.\n",
    "##### Using beautiful soup to extract data from https://en.wikipedia.org/wiki/E_postcode_area html file:"
   ]
  },
  {
   "cell_type": "code",
   "execution_count": 8,
   "metadata": {},
   "outputs": [],
   "source": [
    "with open('E postcode area - Wikipedia.html') as html_file:\n",
    "    soupE = BeautifulSoup(html_file, \"html.parser\")"
   ]
  },
  {
   "cell_type": "markdown",
   "metadata": {},
   "source": [
    "##### Extracting table from given code:"
   ]
  },
  {
   "cell_type": "code",
   "execution_count": 9,
   "metadata": {},
   "outputs": [],
   "source": [
    "raw_tableE = soupE.find(\"table\", attrs={\"class\": \"wikitable\"})\n",
    "raw_table_dataE = raw_tableE.tbody.find_all(\"tr\")\n",
    "raw_table_textsE = raw_tableE.text\n",
    "table_E = raw_table_textsE.splitlines()"
   ]
  },
  {
   "cell_type": "markdown",
   "metadata": {},
   "source": [
    "##### Creating list with only Postcode, Local authority and Coverage of the jurisdiction data: "
   ]
  },
  {
   "cell_type": "code",
   "execution_count": 10,
   "metadata": {},
   "outputs": [],
   "source": [
    "tabE = [i for i in table_E if i != '' and i != 'LONDON' and i != 'non-geographic']"
   ]
  },
  {
   "cell_type": "markdown",
   "metadata": {},
   "source": [
    "##### Removing headings:"
   ]
  },
  {
   "cell_type": "code",
   "execution_count": 11,
   "metadata": {},
   "outputs": [],
   "source": [
    "tabE.remove('Post town')\n",
    "tabE.remove('Postcode district')\n",
    "tabE.remove('Coverage')\n",
    "tabE.remove('Local authority area')"
   ]
  },
  {
   "cell_type": "markdown",
   "metadata": {},
   "source": [
    "##### Creating empty tables in which the data will be assigned using for loop:"
   ]
  },
  {
   "cell_type": "code",
   "execution_count": 12,
   "metadata": {},
   "outputs": [],
   "source": [
    "ps_code_distr = []\n",
    "coverage = []\n",
    "loc_auth_area =[]\n",
    "\n",
    "\n",
    "for i, row in enumerate(tabE):\n",
    "    if i % 3 == 0:\n",
    "        ps_code_distr.append(row)\n",
    "    elif (i + 1) % 3 == 0:\n",
    "        coverage.append(row)\n",
    "    elif ((i + 1) + 1) % 3 ==0:\n",
    "        loc_auth_area.append(row)"
   ]
  },
  {
   "cell_type": "markdown",
   "metadata": {},
   "source": [
    "##### Naming headings that will be unified for all postal codes:"
   ]
  },
  {
   "cell_type": "code",
   "execution_count": 13,
   "metadata": {},
   "outputs": [
    {
     "data": {
      "text/plain": [
       "['Postcode district', 'Coverage', 'Local autority area']"
      ]
     },
     "execution_count": 13,
     "metadata": {},
     "output_type": "execute_result"
    }
   ],
   "source": [
    "heading = ['Postcode district', 'Coverage', 'Local autority area']\n",
    "heading"
   ]
  },
  {
   "cell_type": "markdown",
   "metadata": {},
   "source": [
    "##### Creating empty Data Frame with determined earlier heading names for Eastern post codes:"
   ]
  },
  {
   "cell_type": "code",
   "execution_count": 14,
   "metadata": {},
   "outputs": [],
   "source": [
    "df_E = pd.DataFrame(columns = heading )"
   ]
  },
  {
   "cell_type": "markdown",
   "metadata": {},
   "source": [
    "##### Adding data to created earlier Data Frame:  "
   ]
  },
  {
   "cell_type": "code",
   "execution_count": 15,
   "metadata": {},
   "outputs": [],
   "source": [
    "df_E['Postcode district'] = ps_code_distr\n",
    "df_E['Coverage'] = coverage\n",
    "df_E['Local autority area'] = loc_auth_area"
   ]
  },
  {
   "cell_type": "markdown",
   "metadata": {},
   "source": [
    "##### Data overview:"
   ]
  },
  {
   "cell_type": "code",
   "execution_count": 16,
   "metadata": {},
   "outputs": [
    {
     "data": {
      "text/html": [
       "<div>\n",
       "<style scoped>\n",
       "    .dataframe tbody tr th:only-of-type {\n",
       "        vertical-align: middle;\n",
       "    }\n",
       "\n",
       "    .dataframe tbody tr th {\n",
       "        vertical-align: top;\n",
       "    }\n",
       "\n",
       "    .dataframe thead th {\n",
       "        text-align: right;\n",
       "    }\n",
       "</style>\n",
       "<table border=\"1\" class=\"dataframe\">\n",
       "  <thead>\n",
       "    <tr style=\"text-align: right;\">\n",
       "      <th></th>\n",
       "      <th>Postcode district</th>\n",
       "      <th>Coverage</th>\n",
       "      <th>Local autority area</th>\n",
       "    </tr>\n",
       "  </thead>\n",
       "  <tbody>\n",
       "    <tr>\n",
       "      <th>0</th>\n",
       "      <td>E1</td>\n",
       "      <td>Tower Hamlets, Hackney, City of London</td>\n",
       "      <td>Eastern head district: Aldgate (part), Bishops...</td>\n",
       "    </tr>\n",
       "    <tr>\n",
       "      <th>1</th>\n",
       "      <td>E1W</td>\n",
       "      <td>Tower Hamlets</td>\n",
       "      <td>Wapping, St Katharine Docks, Stepney (part), S...</td>\n",
       "    </tr>\n",
       "    <tr>\n",
       "      <th>2</th>\n",
       "      <td>E2</td>\n",
       "      <td>Tower Hamlets, Hackney</td>\n",
       "      <td>Bethnal Green district: Bethnal Green, Haggers...</td>\n",
       "    </tr>\n",
       "    <tr>\n",
       "      <th>3</th>\n",
       "      <td>E3</td>\n",
       "      <td>Tower Hamlets, Newham</td>\n",
       "      <td>Bow district: Bow, Bow Common, Bromley-by-Bow,...</td>\n",
       "    </tr>\n",
       "    <tr>\n",
       "      <th>4</th>\n",
       "      <td>E4</td>\n",
       "      <td>Waltham Forest, Enfield, Epping Forest (Essex)</td>\n",
       "      <td>Chingford district: Chingford, Sewardstone, Hi...</td>\n",
       "    </tr>\n",
       "  </tbody>\n",
       "</table>\n",
       "</div>"
      ],
      "text/plain": [
       "  Postcode district                                        Coverage  \\\n",
       "0                E1          Tower Hamlets, Hackney, City of London   \n",
       "1               E1W                                   Tower Hamlets   \n",
       "2                E2                          Tower Hamlets, Hackney   \n",
       "3                E3                           Tower Hamlets, Newham   \n",
       "4                E4  Waltham Forest, Enfield, Epping Forest (Essex)   \n",
       "\n",
       "                                 Local autority area  \n",
       "0  Eastern head district: Aldgate (part), Bishops...  \n",
       "1  Wapping, St Katharine Docks, Stepney (part), S...  \n",
       "2  Bethnal Green district: Bethnal Green, Haggers...  \n",
       "3  Bow district: Bow, Bow Common, Bromley-by-Bow,...  \n",
       "4  Chingford district: Chingford, Sewardstone, Hi...  "
      ]
     },
     "execution_count": 16,
     "metadata": {},
     "output_type": "execute_result"
    }
   ],
   "source": [
    "df_E.head()"
   ]
  },
  {
   "cell_type": "markdown",
   "metadata": {},
   "source": [
    "### Eastern Central district"
   ]
  },
  {
   "cell_type": "markdown",
   "metadata": {},
   "source": [
    "##### The web-page was saved in the save depository in Jupyter noteboks.\n",
    "##### Using beautiful soup to extract data from https://en.wikipedia.org/wiki/EC_postcode_area html file:"
   ]
  },
  {
   "cell_type": "code",
   "execution_count": 17,
   "metadata": {},
   "outputs": [],
   "source": [
    "with open('EC postcode area - Wikipedia.html') as html_file:\n",
    "    soupEC = BeautifulSoup(html_file, \"html.parser\")"
   ]
  },
  {
   "cell_type": "markdown",
   "metadata": {},
   "source": [
    "##### Extracting table from given code:"
   ]
  },
  {
   "cell_type": "code",
   "execution_count": 18,
   "metadata": {},
   "outputs": [],
   "source": [
    "raw_tableEC = soupEC.find(\"table\", attrs={\"class\": \"wikitable\"})\n",
    "raw_table_dataEC = raw_tableEC.tbody.find_all(\"tr\")\n",
    "raw_table_textsEC = raw_tableEC.text\n",
    "table_EC = raw_table_textsEC.splitlines()"
   ]
  },
  {
   "cell_type": "markdown",
   "metadata": {},
   "source": [
    "##### Creating list with only Postcode, Local authority and Coverage of the jurisdiction data: "
   ]
  },
  {
   "cell_type": "code",
   "execution_count": 19,
   "metadata": {},
   "outputs": [],
   "source": [
    "tabEC = [i for i in table_EC if i != '' and i != 'LONDON' and i != 'non-geographic']"
   ]
  },
  {
   "cell_type": "markdown",
   "metadata": {},
   "source": [
    "##### Removing headings and non- geographic post codes:"
   ]
  },
  {
   "cell_type": "code",
   "execution_count": 20,
   "metadata": {},
   "outputs": [],
   "source": [
    "tabEC.remove('Local authority area')\n",
    "tabEC.remove('Coverage')\n",
    "tabEC.remove('Postcode district')\n",
    "tabEC.remove('Post town')\n",
    "tabEC.remove('EC1P')\n",
    "tabEC.remove('EC2P')\n",
    "tabEC.remove('EC3P')\n",
    "tabEC.remove('EC4P')\n",
    "tabEC.remove('EC50')"
   ]
  },
  {
   "cell_type": "markdown",
   "metadata": {},
   "source": [
    "##### Creating empty tables in which the data will be assigned using for loop:"
   ]
  },
  {
   "cell_type": "code",
   "execution_count": 21,
   "metadata": {},
   "outputs": [],
   "source": [
    "ps_code_distrEC = []\n",
    "coverageEC = []\n",
    "loc_auth_areaEC =[]\n",
    "\n",
    "\n",
    "for i, row in enumerate(tabEC):\n",
    "    if i % 3 == 0:\n",
    "        ps_code_distrEC.append(row)\n",
    "    elif (i + 1) % 3 == 0:\n",
    "        coverageEC.append(row)\n",
    "    elif ((i + 1) + 1) % 3 ==0:\n",
    "        loc_auth_areaEC.append(row)"
   ]
  },
  {
   "cell_type": "markdown",
   "metadata": {},
   "source": [
    "##### Creating empty Data Frame with determined earlier heading names for Central Eastern post codes:"
   ]
  },
  {
   "cell_type": "code",
   "execution_count": 22,
   "metadata": {},
   "outputs": [],
   "source": [
    "df_EC = pd.DataFrame(columns = heading )"
   ]
  },
  {
   "cell_type": "markdown",
   "metadata": {},
   "source": [
    "##### Adding data to created earlier Data Frame:  "
   ]
  },
  {
   "cell_type": "code",
   "execution_count": 23,
   "metadata": {},
   "outputs": [],
   "source": [
    "df_EC['Postcode district'] = ps_code_distrEC\n",
    "df_EC['Coverage'] = coverageEC\n",
    "df_EC['Local autority area'] = loc_auth_areaEC"
   ]
  },
  {
   "cell_type": "markdown",
   "metadata": {},
   "source": [
    "##### Data overview:"
   ]
  },
  {
   "cell_type": "code",
   "execution_count": 24,
   "metadata": {},
   "outputs": [
    {
     "data": {
      "text/html": [
       "<div>\n",
       "<style scoped>\n",
       "    .dataframe tbody tr th:only-of-type {\n",
       "        vertical-align: middle;\n",
       "    }\n",
       "\n",
       "    .dataframe tbody tr th {\n",
       "        vertical-align: top;\n",
       "    }\n",
       "\n",
       "    .dataframe thead th {\n",
       "        text-align: right;\n",
       "    }\n",
       "</style>\n",
       "<table border=\"1\" class=\"dataframe\">\n",
       "  <thead>\n",
       "    <tr style=\"text-align: right;\">\n",
       "      <th></th>\n",
       "      <th>Postcode district</th>\n",
       "      <th>Coverage</th>\n",
       "      <th>Local autority area</th>\n",
       "    </tr>\n",
       "  </thead>\n",
       "  <tbody>\n",
       "    <tr>\n",
       "      <th>0</th>\n",
       "      <td>EC1A</td>\n",
       "      <td>City of London, Islington</td>\n",
       "      <td>St Bartholomew's Hospital</td>\n",
       "    </tr>\n",
       "    <tr>\n",
       "      <th>1</th>\n",
       "      <td>EC1M</td>\n",
       "      <td>Islington, Camden, City of London</td>\n",
       "      <td>Clerkenwell, Farringdon</td>\n",
       "    </tr>\n",
       "    <tr>\n",
       "      <th>2</th>\n",
       "      <td>EC1N</td>\n",
       "      <td>Camden, City of London</td>\n",
       "      <td>Hatton Garden</td>\n",
       "    </tr>\n",
       "    <tr>\n",
       "      <th>3</th>\n",
       "      <td>EC1R</td>\n",
       "      <td>Islington, Camden</td>\n",
       "      <td>Finsbury, Finsbury Estate (west)</td>\n",
       "    </tr>\n",
       "    <tr>\n",
       "      <th>4</th>\n",
       "      <td>EC1V</td>\n",
       "      <td>Islington, Hackney</td>\n",
       "      <td>Finsbury (east), Moorfields Eye Hospital</td>\n",
       "    </tr>\n",
       "  </tbody>\n",
       "</table>\n",
       "</div>"
      ],
      "text/plain": [
       "  Postcode district                           Coverage  \\\n",
       "0              EC1A          City of London, Islington   \n",
       "1              EC1M  Islington, Camden, City of London   \n",
       "2              EC1N             Camden, City of London   \n",
       "3              EC1R                  Islington, Camden   \n",
       "4              EC1V                 Islington, Hackney   \n",
       "\n",
       "                        Local autority area  \n",
       "0                 St Bartholomew's Hospital  \n",
       "1                   Clerkenwell, Farringdon  \n",
       "2                             Hatton Garden  \n",
       "3          Finsbury, Finsbury Estate (west)  \n",
       "4  Finsbury (east), Moorfields Eye Hospital  "
      ]
     },
     "execution_count": 24,
     "metadata": {},
     "output_type": "execute_result"
    }
   ],
   "source": [
    "df_EC.head()"
   ]
  },
  {
   "cell_type": "markdown",
   "metadata": {},
   "source": [
    "#### "
   ]
  },
  {
   "cell_type": "markdown",
   "metadata": {},
   "source": [
    "### South Eastern District"
   ]
  },
  {
   "cell_type": "markdown",
   "metadata": {},
   "source": [
    "##### The web-page was saved in the save depository in Jupyter noteboks.\n",
    "##### Using beautiful soup to extract data from https://en.wikipedia.org/wiki/SE_postcode_area html file:"
   ]
  },
  {
   "cell_type": "code",
   "execution_count": 25,
   "metadata": {},
   "outputs": [],
   "source": [
    "with open('SE postcode area - Wikipedia.html') as html_file:\n",
    "    soupSE = BeautifulSoup(html_file, \"html.parser\")"
   ]
  },
  {
   "cell_type": "markdown",
   "metadata": {},
   "source": [
    "##### Extracting table from given code:"
   ]
  },
  {
   "cell_type": "code",
   "execution_count": 26,
   "metadata": {},
   "outputs": [],
   "source": [
    "raw_tableSE = soupSE.find(\"table\", attrs={\"class\": \"wikitable\"})\n",
    "raw_table_dataSE = raw_tableSE.tbody.find_all(\"tr\")\n",
    "raw_table_textsSE = raw_tableSE.text\n",
    "table_SE = raw_table_textsSE.splitlines()"
   ]
  },
  {
   "cell_type": "markdown",
   "metadata": {},
   "source": [
    "##### Creating list with only Postcode, Local authority and Coverage of the jurisdiction data: "
   ]
  },
  {
   "cell_type": "code",
   "execution_count": 27,
   "metadata": {},
   "outputs": [],
   "source": [
    "tabSE = [i for i in table_SE if i != '' and i != 'LONDON' and i != 'non-geographic']"
   ]
  },
  {
   "cell_type": "markdown",
   "metadata": {},
   "source": [
    "##### Removing headings and non- geographic post codes:"
   ]
  },
  {
   "cell_type": "code",
   "execution_count": 28,
   "metadata": {},
   "outputs": [],
   "source": [
    "tabSE.remove('Local authority area')\n",
    "tabSE.remove('Coverage')\n",
    "tabSE.remove('Postcode district')\n",
    "tabSE.remove('Post town')\n",
    "tabSE.remove('SE1P')"
   ]
  },
  {
   "cell_type": "markdown",
   "metadata": {},
   "source": [
    "##### Creating empty tables in which the data will be assigned using for loop:"
   ]
  },
  {
   "cell_type": "code",
   "execution_count": 29,
   "metadata": {},
   "outputs": [],
   "source": [
    "ps_code_distrSE = []\n",
    "coverageSE = []\n",
    "loc_auth_areaSE =[]\n",
    "\n",
    "\n",
    "for i, row in enumerate(tabSE):\n",
    "    if i % 3 == 0:\n",
    "        ps_code_distrSE.append(row)\n",
    "    elif (i + 1) % 3 == 0:\n",
    "        coverageSE.append(row)\n",
    "    elif ((i + 1) + 1) % 3 ==0:\n",
    "        loc_auth_areaSE.append(row)"
   ]
  },
  {
   "cell_type": "markdown",
   "metadata": {},
   "source": [
    "##### Creating empty Data Frame with determined earlier heading names for South Eastern post codes:"
   ]
  },
  {
   "cell_type": "code",
   "execution_count": 30,
   "metadata": {},
   "outputs": [],
   "source": [
    "df_SE = pd.DataFrame(columns = heading )"
   ]
  },
  {
   "cell_type": "markdown",
   "metadata": {},
   "source": [
    "##### Adding data to created earlier Data Frame:  "
   ]
  },
  {
   "cell_type": "code",
   "execution_count": 31,
   "metadata": {},
   "outputs": [],
   "source": [
    "df_SE['Postcode district'] = ps_code_distrSE\n",
    "df_SE['Coverage'] = coverageSE\n",
    "df_SE['Local autority area'] = loc_auth_areaSE"
   ]
  },
  {
   "cell_type": "markdown",
   "metadata": {},
   "source": [
    "##### Data overview:"
   ]
  },
  {
   "cell_type": "code",
   "execution_count": 32,
   "metadata": {},
   "outputs": [
    {
     "data": {
      "text/html": [
       "<div>\n",
       "<style scoped>\n",
       "    .dataframe tbody tr th:only-of-type {\n",
       "        vertical-align: middle;\n",
       "    }\n",
       "\n",
       "    .dataframe tbody tr th {\n",
       "        vertical-align: top;\n",
       "    }\n",
       "\n",
       "    .dataframe thead th {\n",
       "        text-align: right;\n",
       "    }\n",
       "</style>\n",
       "<table border=\"1\" class=\"dataframe\">\n",
       "  <thead>\n",
       "    <tr style=\"text-align: right;\">\n",
       "      <th></th>\n",
       "      <th>Postcode district</th>\n",
       "      <th>Coverage</th>\n",
       "      <th>Local autority area</th>\n",
       "    </tr>\n",
       "  </thead>\n",
       "  <tbody>\n",
       "    <tr>\n",
       "      <th>0</th>\n",
       "      <td>SE1</td>\n",
       "      <td>Lambeth, Southwark, City of London</td>\n",
       "      <td>South Eastern head district: Bankside, South B...</td>\n",
       "    </tr>\n",
       "    <tr>\n",
       "      <th>1</th>\n",
       "      <td>SE2</td>\n",
       "      <td>Bexley, Greenwich</td>\n",
       "      <td>Abbey Wood district: Abbey Wood, West Heath, C...</td>\n",
       "    </tr>\n",
       "    <tr>\n",
       "      <th>2</th>\n",
       "      <td>SE3</td>\n",
       "      <td>Greenwich, Lewisham</td>\n",
       "      <td>Blackheath district: Blackheath, Kidbrooke, We...</td>\n",
       "    </tr>\n",
       "    <tr>\n",
       "      <th>3</th>\n",
       "      <td>SE4</td>\n",
       "      <td>Lewisham</td>\n",
       "      <td>Brockley district: Brockley, Crofton Park, Lad...</td>\n",
       "    </tr>\n",
       "    <tr>\n",
       "      <th>4</th>\n",
       "      <td>SE5</td>\n",
       "      <td>Southwark, Lambeth</td>\n",
       "      <td>Camberwell district: Camberwell, Denmark Hill,...</td>\n",
       "    </tr>\n",
       "  </tbody>\n",
       "</table>\n",
       "</div>"
      ],
      "text/plain": [
       "  Postcode district                            Coverage  \\\n",
       "0               SE1  Lambeth, Southwark, City of London   \n",
       "1               SE2                   Bexley, Greenwich   \n",
       "2               SE3                 Greenwich, Lewisham   \n",
       "3               SE4                            Lewisham   \n",
       "4               SE5                  Southwark, Lambeth   \n",
       "\n",
       "                                 Local autority area  \n",
       "0  South Eastern head district: Bankside, South B...  \n",
       "1  Abbey Wood district: Abbey Wood, West Heath, C...  \n",
       "2  Blackheath district: Blackheath, Kidbrooke, We...  \n",
       "3  Brockley district: Brockley, Crofton Park, Lad...  \n",
       "4  Camberwell district: Camberwell, Denmark Hill,...  "
      ]
     },
     "execution_count": 32,
     "metadata": {},
     "output_type": "execute_result"
    }
   ],
   "source": [
    "df_SE.head()"
   ]
  },
  {
   "cell_type": "markdown",
   "metadata": {},
   "source": [
    "# "
   ]
  },
  {
   "cell_type": "markdown",
   "metadata": {},
   "source": [
    "#### South Western District"
   ]
  },
  {
   "cell_type": "markdown",
   "metadata": {},
   "source": [
    "##### The web-page was saved in the save depository in Jupyter noteboks.\n",
    "##### Using beautiful soup to extract data from https://en.wikipedia.org/wiki/SW_postcode_area html file:"
   ]
  },
  {
   "cell_type": "code",
   "execution_count": 33,
   "metadata": {},
   "outputs": [],
   "source": [
    "with open('SW postcode area - Wikipedia.html') as html_file:\n",
    "    soupSW = BeautifulSoup(html_file, \"html.parser\")"
   ]
  },
  {
   "cell_type": "markdown",
   "metadata": {},
   "source": [
    "##### Extracting table from given code:"
   ]
  },
  {
   "cell_type": "code",
   "execution_count": 34,
   "metadata": {},
   "outputs": [],
   "source": [
    "raw_tableSW = soupSW.find(\"table\", attrs={\"class\": \"wikitable\"})\n",
    "raw_table_dataSW = raw_tableSW.tbody.find_all(\"tr\")\n",
    "raw_table_textsSW = raw_tableSW.text\n",
    "table_SW = raw_table_textsSW.splitlines()"
   ]
  },
  {
   "cell_type": "markdown",
   "metadata": {},
   "source": [
    "##### Creating list with only Postcode, Local authority and Coverage of the jurisdiction data: "
   ]
  },
  {
   "cell_type": "code",
   "execution_count": 35,
   "metadata": {},
   "outputs": [],
   "source": [
    "tabSW = [i for i in table_SW if i != '' and i != 'LONDON' and i != 'non-geographic']"
   ]
  },
  {
   "cell_type": "markdown",
   "metadata": {},
   "source": [
    "##### Removing headings:"
   ]
  },
  {
   "cell_type": "code",
   "execution_count": 36,
   "metadata": {},
   "outputs": [],
   "source": [
    "tabSW.remove('Local authority area')\n",
    "tabSW.remove('Coverage')\n",
    "tabSW.remove('Postcode district')\n",
    "tabSW.remove('Post town')"
   ]
  },
  {
   "cell_type": "markdown",
   "metadata": {},
   "source": [
    "##### Creating empty tables in which the data will be assigned using for loop:"
   ]
  },
  {
   "cell_type": "code",
   "execution_count": 37,
   "metadata": {},
   "outputs": [],
   "source": [
    "ps_code_distrSW = []\n",
    "coverageSW = []\n",
    "loc_auth_areaSW =[]\n",
    "\n",
    "\n",
    "for i, row in enumerate(tabSW):\n",
    "    if i % 3 == 0:\n",
    "        ps_code_distrSW.append(row)\n",
    "    elif (i + 1) % 3 == 0:\n",
    "        coverageSW.append(row)\n",
    "    elif ((i + 1) + 1) % 3 ==0:\n",
    "        loc_auth_areaSW.append(row)"
   ]
  },
  {
   "cell_type": "markdown",
   "metadata": {},
   "source": [
    "##### Creating empty Data Frame with determined earlier heading names for South Western post codes:"
   ]
  },
  {
   "cell_type": "code",
   "execution_count": 38,
   "metadata": {},
   "outputs": [],
   "source": [
    "df_SW = pd.DataFrame(columns = heading )"
   ]
  },
  {
   "cell_type": "markdown",
   "metadata": {},
   "source": [
    "##### Adding data to created earlier Data Frame:  "
   ]
  },
  {
   "cell_type": "code",
   "execution_count": 39,
   "metadata": {},
   "outputs": [],
   "source": [
    "df_SW['Postcode district'] = ps_code_distrSW\n",
    "df_SW['Coverage'] = coverageSW\n",
    "df_SW['Local autority area'] = loc_auth_areaSW"
   ]
  },
  {
   "cell_type": "markdown",
   "metadata": {},
   "source": [
    "##### Data overview:"
   ]
  },
  {
   "cell_type": "code",
   "execution_count": 40,
   "metadata": {},
   "outputs": [
    {
     "data": {
      "text/html": [
       "<div>\n",
       "<style scoped>\n",
       "    .dataframe tbody tr th:only-of-type {\n",
       "        vertical-align: middle;\n",
       "    }\n",
       "\n",
       "    .dataframe tbody tr th {\n",
       "        vertical-align: top;\n",
       "    }\n",
       "\n",
       "    .dataframe thead th {\n",
       "        text-align: right;\n",
       "    }\n",
       "</style>\n",
       "<table border=\"1\" class=\"dataframe\">\n",
       "  <thead>\n",
       "    <tr style=\"text-align: right;\">\n",
       "      <th></th>\n",
       "      <th>Postcode district</th>\n",
       "      <th>Coverage</th>\n",
       "      <th>Local autority area</th>\n",
       "    </tr>\n",
       "  </thead>\n",
       "  <tbody>\n",
       "    <tr>\n",
       "      <th>0</th>\n",
       "      <td>SW1A</td>\n",
       "      <td>Westminster</td>\n",
       "      <td>Whitehall, Buckingham Palace, the Houses of Pa...</td>\n",
       "    </tr>\n",
       "    <tr>\n",
       "      <th>1</th>\n",
       "      <td>SW1E</td>\n",
       "      <td>Westminster</td>\n",
       "      <td>Northern 'Victoria' around Buckingham Gate (a ...</td>\n",
       "    </tr>\n",
       "    <tr>\n",
       "      <th>2</th>\n",
       "      <td>SW1H</td>\n",
       "      <td>Westminster</td>\n",
       "      <td>Surrounds of St James's Park tube station cent...</td>\n",
       "    </tr>\n",
       "    <tr>\n",
       "      <th>3</th>\n",
       "      <td>SW1P</td>\n",
       "      <td>Westminster</td>\n",
       "      <td>A projection around Parliament Square. Nearby ...</td>\n",
       "    </tr>\n",
       "    <tr>\n",
       "      <th>4</th>\n",
       "      <td>SW1V</td>\n",
       "      <td>Westminster</td>\n",
       "      <td>between Vauxhall Bridge, Grosvenor (or Victori...</td>\n",
       "    </tr>\n",
       "  </tbody>\n",
       "</table>\n",
       "</div>"
      ],
      "text/plain": [
       "  Postcode district     Coverage  \\\n",
       "0              SW1A  Westminster   \n",
       "1              SW1E  Westminster   \n",
       "2              SW1H  Westminster   \n",
       "3              SW1P  Westminster   \n",
       "4              SW1V  Westminster   \n",
       "\n",
       "                                 Local autority area  \n",
       "0  Whitehall, Buckingham Palace, the Houses of Pa...  \n",
       "1  Northern 'Victoria' around Buckingham Gate (a ...  \n",
       "2  Surrounds of St James's Park tube station cent...  \n",
       "3  A projection around Parliament Square. Nearby ...  \n",
       "4  between Vauxhall Bridge, Grosvenor (or Victori...  "
      ]
     },
     "execution_count": 40,
     "metadata": {},
     "output_type": "execute_result"
    }
   ],
   "source": [
    "df_SW.head()"
   ]
  },
  {
   "cell_type": "markdown",
   "metadata": {},
   "source": [
    "# "
   ]
  },
  {
   "cell_type": "markdown",
   "metadata": {},
   "source": [
    "### Western Central District"
   ]
  },
  {
   "cell_type": "markdown",
   "metadata": {},
   "source": [
    "##### The web-page was saved in the save depository in Jupyter noteboks.\n",
    "##### Using beautiful soup to extract data from https://en.wikipedia.org/wiki/WC_postcode_area html file:"
   ]
  },
  {
   "cell_type": "code",
   "execution_count": 41,
   "metadata": {},
   "outputs": [],
   "source": [
    "with open('WC postcode area - Wikipedia.html') as html_file:\n",
    "    soupWC = BeautifulSoup(html_file, \"html.parser\")"
   ]
  },
  {
   "cell_type": "markdown",
   "metadata": {},
   "source": [
    "##### Extracting table from given code:"
   ]
  },
  {
   "cell_type": "code",
   "execution_count": 42,
   "metadata": {},
   "outputs": [],
   "source": [
    "raw_tableWC = soupWC.find(\"table\", attrs={\"class\": \"wikitable\"})\n",
    "raw_table_dataWC = raw_tableWC.tbody.find_all(\"tr\")\n",
    "raw_table_textsWC = raw_tableWC.text\n",
    "table_WC = raw_table_textsWC.splitlines()"
   ]
  },
  {
   "cell_type": "markdown",
   "metadata": {},
   "source": [
    "##### Creating list with only Postcode, Local authority and Coverage of the jurisdiction data: "
   ]
  },
  {
   "cell_type": "code",
   "execution_count": 43,
   "metadata": {},
   "outputs": [],
   "source": [
    "tabWC = [i for i in table_SW if i != '' and i != 'LONDON' and i != 'non-geographic']"
   ]
  },
  {
   "cell_type": "markdown",
   "metadata": {},
   "source": [
    "##### Removing headings:"
   ]
  },
  {
   "cell_type": "code",
   "execution_count": 44,
   "metadata": {},
   "outputs": [],
   "source": [
    "tabWC.remove('Local authority area')\n",
    "tabWC.remove('Coverage')\n",
    "tabWC.remove('Postcode district')\n",
    "tabWC.remove('Post town')"
   ]
  },
  {
   "cell_type": "markdown",
   "metadata": {},
   "source": [
    "##### Creating empty tables in which the data will be assigned using for loop:"
   ]
  },
  {
   "cell_type": "code",
   "execution_count": 45,
   "metadata": {},
   "outputs": [],
   "source": [
    "ps_code_distrWC = []\n",
    "coverageWC = []\n",
    "loc_auth_areaWC =[]\n",
    "\n",
    "\n",
    "for i, row in enumerate(tabWC):\n",
    "    if i % 3 == 0:\n",
    "        ps_code_distrWC.append(row)\n",
    "    elif (i + 1) % 3 == 0:\n",
    "        coverageWC.append(row)\n",
    "    elif ((i + 1) + 1) % 3 ==0:\n",
    "        loc_auth_areaWC.append(row)"
   ]
  },
  {
   "cell_type": "markdown",
   "metadata": {},
   "source": [
    "##### Creating empty Data Frame with determined earlier heading names for Western Central post codes:"
   ]
  },
  {
   "cell_type": "code",
   "execution_count": 46,
   "metadata": {},
   "outputs": [],
   "source": [
    "df_WC = pd.DataFrame(columns = heading )"
   ]
  },
  {
   "cell_type": "markdown",
   "metadata": {},
   "source": [
    "##### Adding data to created earlier Data Frame:  "
   ]
  },
  {
   "cell_type": "code",
   "execution_count": 47,
   "metadata": {},
   "outputs": [],
   "source": [
    "df_WC['Postcode district'] = ps_code_distrWC\n",
    "df_WC['Coverage'] = coverageWC\n",
    "df_WC['Local autority area'] = loc_auth_areaWC"
   ]
  },
  {
   "cell_type": "markdown",
   "metadata": {},
   "source": [
    "##### Data overview:  "
   ]
  },
  {
   "cell_type": "code",
   "execution_count": 48,
   "metadata": {},
   "outputs": [
    {
     "data": {
      "text/html": [
       "<div>\n",
       "<style scoped>\n",
       "    .dataframe tbody tr th:only-of-type {\n",
       "        vertical-align: middle;\n",
       "    }\n",
       "\n",
       "    .dataframe tbody tr th {\n",
       "        vertical-align: top;\n",
       "    }\n",
       "\n",
       "    .dataframe thead th {\n",
       "        text-align: right;\n",
       "    }\n",
       "</style>\n",
       "<table border=\"1\" class=\"dataframe\">\n",
       "  <thead>\n",
       "    <tr style=\"text-align: right;\">\n",
       "      <th></th>\n",
       "      <th>Postcode district</th>\n",
       "      <th>Coverage</th>\n",
       "      <th>Local autority area</th>\n",
       "    </tr>\n",
       "  </thead>\n",
       "  <tbody>\n",
       "    <tr>\n",
       "      <th>0</th>\n",
       "      <td>SW1A</td>\n",
       "      <td>Westminster</td>\n",
       "      <td>Whitehall, Buckingham Palace, the Houses of Pa...</td>\n",
       "    </tr>\n",
       "    <tr>\n",
       "      <th>1</th>\n",
       "      <td>SW1E</td>\n",
       "      <td>Westminster</td>\n",
       "      <td>Northern 'Victoria' around Buckingham Gate (a ...</td>\n",
       "    </tr>\n",
       "    <tr>\n",
       "      <th>2</th>\n",
       "      <td>SW1H</td>\n",
       "      <td>Westminster</td>\n",
       "      <td>Surrounds of St James's Park tube station cent...</td>\n",
       "    </tr>\n",
       "    <tr>\n",
       "      <th>3</th>\n",
       "      <td>SW1P</td>\n",
       "      <td>Westminster</td>\n",
       "      <td>A projection around Parliament Square. Nearby ...</td>\n",
       "    </tr>\n",
       "    <tr>\n",
       "      <th>4</th>\n",
       "      <td>SW1V</td>\n",
       "      <td>Westminster</td>\n",
       "      <td>between Vauxhall Bridge, Grosvenor (or Victori...</td>\n",
       "    </tr>\n",
       "  </tbody>\n",
       "</table>\n",
       "</div>"
      ],
      "text/plain": [
       "  Postcode district     Coverage  \\\n",
       "0              SW1A  Westminster   \n",
       "1              SW1E  Westminster   \n",
       "2              SW1H  Westminster   \n",
       "3              SW1P  Westminster   \n",
       "4              SW1V  Westminster   \n",
       "\n",
       "                                 Local autority area  \n",
       "0  Whitehall, Buckingham Palace, the Houses of Pa...  \n",
       "1  Northern 'Victoria' around Buckingham Gate (a ...  \n",
       "2  Surrounds of St James's Park tube station cent...  \n",
       "3  A projection around Parliament Square. Nearby ...  \n",
       "4  between Vauxhall Bridge, Grosvenor (or Victori...  "
      ]
     },
     "execution_count": 48,
     "metadata": {},
     "output_type": "execute_result"
    }
   ],
   "source": [
    "df_WC.head()"
   ]
  },
  {
   "cell_type": "markdown",
   "metadata": {},
   "source": [
    "### "
   ]
  },
  {
   "cell_type": "markdown",
   "metadata": {},
   "source": [
    "### Western District"
   ]
  },
  {
   "cell_type": "markdown",
   "metadata": {},
   "source": [
    "##### The web-page was saved in the save depository in Jupyter noteboks.\n",
    "##### Using beautiful soup to extract data from https://en.wikipedia.org/wiki/W_postcode_area html file:"
   ]
  },
  {
   "cell_type": "code",
   "execution_count": 49,
   "metadata": {},
   "outputs": [],
   "source": [
    "with open('W postcode area - Wikipedia.html') as html_file:\n",
    "    soupW = BeautifulSoup(html_file, \"html.parser\")"
   ]
  },
  {
   "cell_type": "markdown",
   "metadata": {},
   "source": [
    "##### Extracting table from given code:"
   ]
  },
  {
   "cell_type": "code",
   "execution_count": 50,
   "metadata": {},
   "outputs": [],
   "source": [
    "raw_tableW = soupW.find(\"table\", attrs={\"class\": \"wikitable\"})\n",
    "raw_table_dataW = raw_tableW.tbody.find_all(\"tr\")\n",
    "raw_table_textsW = raw_tableW.text\n",
    "table_W = raw_table_textsW.splitlines()"
   ]
  },
  {
   "cell_type": "markdown",
   "metadata": {},
   "source": [
    "##### Creating list with only Postcode, Local authority and Coverage of the jurisdiction data: "
   ]
  },
  {
   "cell_type": "code",
   "execution_count": 51,
   "metadata": {},
   "outputs": [],
   "source": [
    "tabW = [i for i in table_W if i != '' and i != 'LONDON' and i != 'non-geographic']"
   ]
  },
  {
   "cell_type": "markdown",
   "metadata": {},
   "source": [
    "##### Removing headings:"
   ]
  },
  {
   "cell_type": "code",
   "execution_count": 52,
   "metadata": {},
   "outputs": [],
   "source": [
    "tabW.remove('Local authority area')\n",
    "tabW.remove('Coverage')\n",
    "tabW.remove('Postcode district')\n",
    "tabW.remove('Post town')\n",
    "tabW.remove(\"PO boxes & Admail codes in W1[7]\")\n",
    "tabW.remove(\"W1A\")"
   ]
  },
  {
   "cell_type": "markdown",
   "metadata": {},
   "source": [
    "##### Creating empty tables in which the data will be assigned using for loop:"
   ]
  },
  {
   "cell_type": "code",
   "execution_count": 53,
   "metadata": {},
   "outputs": [],
   "source": [
    "ps_code_distrW = []\n",
    "coverageW = []\n",
    "loc_auth_areaW =[]\n",
    "\n",
    "\n",
    "for i, row in enumerate(tabW):\n",
    "    if i % 3 == 0:\n",
    "        ps_code_distrW.append(row)\n",
    "    elif (i + 1) % 3 == 0:\n",
    "        coverageW.append(row)\n",
    "    elif ((i + 1) + 1) % 3 ==0:\n",
    "        loc_auth_areaW.append(row)"
   ]
  },
  {
   "cell_type": "markdown",
   "metadata": {},
   "source": [
    "##### Creating empty Data Frame with determined earlier heading names for Western post codes:"
   ]
  },
  {
   "cell_type": "code",
   "execution_count": 54,
   "metadata": {},
   "outputs": [],
   "source": [
    "df_W = pd.DataFrame(columns = heading )"
   ]
  },
  {
   "cell_type": "markdown",
   "metadata": {},
   "source": [
    "##### Adding data to created earlier Data Frame:  "
   ]
  },
  {
   "cell_type": "code",
   "execution_count": 55,
   "metadata": {},
   "outputs": [],
   "source": [
    "df_W['Postcode district'] = ps_code_distrW\n",
    "df_W['Coverage'] = coverageW\n",
    "df_W['Local autority area'] = loc_auth_areaW"
   ]
  },
  {
   "cell_type": "markdown",
   "metadata": {},
   "source": [
    "##### Data overview:  "
   ]
  },
  {
   "cell_type": "code",
   "execution_count": 56,
   "metadata": {},
   "outputs": [
    {
     "data": {
      "text/html": [
       "<div>\n",
       "<style scoped>\n",
       "    .dataframe tbody tr th:only-of-type {\n",
       "        vertical-align: middle;\n",
       "    }\n",
       "\n",
       "    .dataframe tbody tr th {\n",
       "        vertical-align: top;\n",
       "    }\n",
       "\n",
       "    .dataframe thead th {\n",
       "        text-align: right;\n",
       "    }\n",
       "</style>\n",
       "<table border=\"1\" class=\"dataframe\">\n",
       "  <thead>\n",
       "    <tr style=\"text-align: right;\">\n",
       "      <th></th>\n",
       "      <th>Postcode district</th>\n",
       "      <th>Coverage</th>\n",
       "      <th>Local autority area</th>\n",
       "    </tr>\n",
       "  </thead>\n",
       "  <tbody>\n",
       "    <tr>\n",
       "      <th>0</th>\n",
       "      <td>W1B</td>\n",
       "      <td>Westminster</td>\n",
       "      <td>Portland Place, Regent Street</td>\n",
       "    </tr>\n",
       "    <tr>\n",
       "      <th>1</th>\n",
       "      <td>W1C</td>\n",
       "      <td>Westminster</td>\n",
       "      <td>Oxford Street (west)</td>\n",
       "    </tr>\n",
       "    <tr>\n",
       "      <th>2</th>\n",
       "      <td>W1D</td>\n",
       "      <td>Westminster</td>\n",
       "      <td>Soho (south east); Chinatown, Soho Square</td>\n",
       "    </tr>\n",
       "    <tr>\n",
       "      <th>3</th>\n",
       "      <td>W1F</td>\n",
       "      <td>Westminster</td>\n",
       "      <td>Soho (north west)</td>\n",
       "    </tr>\n",
       "    <tr>\n",
       "      <th>4</th>\n",
       "      <td>W1G</td>\n",
       "      <td>Westminster</td>\n",
       "      <td>Harley Street</td>\n",
       "    </tr>\n",
       "  </tbody>\n",
       "</table>\n",
       "</div>"
      ],
      "text/plain": [
       "  Postcode district     Coverage                        Local autority area\n",
       "0               W1B  Westminster              Portland Place, Regent Street\n",
       "1               W1C  Westminster                       Oxford Street (west)\n",
       "2               W1D  Westminster  Soho (south east); Chinatown, Soho Square\n",
       "3               W1F  Westminster                          Soho (north west)\n",
       "4               W1G  Westminster                              Harley Street"
      ]
     },
     "execution_count": 56,
     "metadata": {},
     "output_type": "execute_result"
    }
   ],
   "source": [
    "df_W.head()"
   ]
  },
  {
   "cell_type": "markdown",
   "metadata": {},
   "source": [
    "### "
   ]
  },
  {
   "cell_type": "markdown",
   "metadata": {},
   "source": [
    "### North Western District"
   ]
  },
  {
   "cell_type": "markdown",
   "metadata": {},
   "source": [
    "##### The web-page was saved in the save depository in Jupyter noteboks.\n",
    "##### Using beautiful soup to extract data from https://en.wikipedia.org/wiki/NW_postcode_area html file:"
   ]
  },
  {
   "cell_type": "code",
   "execution_count": 57,
   "metadata": {},
   "outputs": [],
   "source": [
    "with open('NW postcode area - Wikipedia.html') as html_file:\n",
    "    soupNW = BeautifulSoup(html_file, \"html.parser\")"
   ]
  },
  {
   "cell_type": "markdown",
   "metadata": {},
   "source": [
    "##### Extracting table from given code:"
   ]
  },
  {
   "cell_type": "code",
   "execution_count": 58,
   "metadata": {},
   "outputs": [],
   "source": [
    "raw_tableNW = soupNW.find(\"table\", attrs={\"class\": \"wikitable\"})\n",
    "raw_table_dataNW = raw_tableNW.tbody.find_all(\"tr\")\n",
    "raw_table_textsNW = raw_tableNW.text\n",
    "table_NW = raw_table_textsNW.splitlines()"
   ]
  },
  {
   "cell_type": "markdown",
   "metadata": {},
   "source": [
    "##### Creating list with only Postcode, Local authority and Coverage of the jurisdiction data: "
   ]
  },
  {
   "cell_type": "code",
   "execution_count": 59,
   "metadata": {},
   "outputs": [],
   "source": [
    "tabNW = [i for i in table_NW if i != '' and i != 'LONDON' and i != 'non-geographic']"
   ]
  },
  {
   "cell_type": "markdown",
   "metadata": {},
   "source": [
    "##### Removing headings and non-geographic postcodes:"
   ]
  },
  {
   "cell_type": "code",
   "execution_count": 60,
   "metadata": {},
   "outputs": [],
   "source": [
    "tabNW.remove('Local authority area')\n",
    "tabNW.remove('Coverage')\n",
    "tabNW.remove('Postcode district')\n",
    "tabNW.remove('Post town')\n",
    "tabNW.remove(\"NW26\")\n",
    "tabNW.remove(\"NW1W\")\n",
    "tabNW.remove(\"PO boxes in NW1[4]\")\n",
    "tabNW.remove(\"PO boxes in NW10[4]\")"
   ]
  },
  {
   "cell_type": "markdown",
   "metadata": {},
   "source": [
    "##### Creating empty tables in which the data will be assigned using for loop:"
   ]
  },
  {
   "cell_type": "code",
   "execution_count": 61,
   "metadata": {},
   "outputs": [],
   "source": [
    "ps_code_distrNW = []\n",
    "coverageNW = []\n",
    "loc_auth_areaNW =[]\n",
    "\n",
    "\n",
    "for i, row in enumerate(tabNW):\n",
    "    if i % 3 == 0:\n",
    "        ps_code_distrNW.append(row)\n",
    "    elif (i + 1) % 3 == 0:\n",
    "        coverageNW.append(row)\n",
    "    elif ((i + 1) + 1) % 3 ==0:\n",
    "        loc_auth_areaNW.append(row)"
   ]
  },
  {
   "cell_type": "markdown",
   "metadata": {},
   "source": [
    "##### Creating empty Data Frame with determined earlier heading names for North Western post codes:"
   ]
  },
  {
   "cell_type": "code",
   "execution_count": 62,
   "metadata": {},
   "outputs": [],
   "source": [
    "df_NW = pd.DataFrame(columns = heading )"
   ]
  },
  {
   "cell_type": "markdown",
   "metadata": {},
   "source": [
    "##### Adding data to created earlier Data Frame:  "
   ]
  },
  {
   "cell_type": "code",
   "execution_count": 63,
   "metadata": {},
   "outputs": [],
   "source": [
    "df_NW['Postcode district'] = ps_code_distrNW\n",
    "df_NW['Coverage'] = coverageNW\n",
    "df_NW['Local autority area'] = loc_auth_areaNW"
   ]
  },
  {
   "cell_type": "markdown",
   "metadata": {},
   "source": [
    "##### Data overview:  "
   ]
  },
  {
   "cell_type": "code",
   "execution_count": 64,
   "metadata": {},
   "outputs": [
    {
     "data": {
      "text/html": [
       "<div>\n",
       "<style scoped>\n",
       "    .dataframe tbody tr th:only-of-type {\n",
       "        vertical-align: middle;\n",
       "    }\n",
       "\n",
       "    .dataframe tbody tr th {\n",
       "        vertical-align: top;\n",
       "    }\n",
       "\n",
       "    .dataframe thead th {\n",
       "        text-align: right;\n",
       "    }\n",
       "</style>\n",
       "<table border=\"1\" class=\"dataframe\">\n",
       "  <thead>\n",
       "    <tr style=\"text-align: right;\">\n",
       "      <th></th>\n",
       "      <th>Postcode district</th>\n",
       "      <th>Coverage</th>\n",
       "      <th>Local autority area</th>\n",
       "    </tr>\n",
       "  </thead>\n",
       "  <tbody>\n",
       "    <tr>\n",
       "      <th>0</th>\n",
       "      <td>NW1</td>\n",
       "      <td>Camden, Westminster</td>\n",
       "      <td>North Western head district: Marylebone (part)...</td>\n",
       "    </tr>\n",
       "    <tr>\n",
       "      <th>1</th>\n",
       "      <td>NW2</td>\n",
       "      <td>Barnet, Brent, Camden</td>\n",
       "      <td>Cricklewood district: Cricklewood, Dollis Hill...</td>\n",
       "    </tr>\n",
       "    <tr>\n",
       "      <th>2</th>\n",
       "      <td>NW3</td>\n",
       "      <td>Camden, Barnet</td>\n",
       "      <td>Hampstead district: Hampstead, Belsize Park, F...</td>\n",
       "    </tr>\n",
       "    <tr>\n",
       "      <th>3</th>\n",
       "      <td>NW4</td>\n",
       "      <td>Barnet</td>\n",
       "      <td>Hendon district: Hendon, Brent Cross (part)</td>\n",
       "    </tr>\n",
       "    <tr>\n",
       "      <th>4</th>\n",
       "      <td>NW5</td>\n",
       "      <td>Camden, Islington</td>\n",
       "      <td>Kentish Town district: Kentish Town, Camden To...</td>\n",
       "    </tr>\n",
       "  </tbody>\n",
       "</table>\n",
       "</div>"
      ],
      "text/plain": [
       "  Postcode district               Coverage  \\\n",
       "0               NW1    Camden, Westminster   \n",
       "1               NW2  Barnet, Brent, Camden   \n",
       "2               NW3         Camden, Barnet   \n",
       "3               NW4                 Barnet   \n",
       "4               NW5      Camden, Islington   \n",
       "\n",
       "                                 Local autority area  \n",
       "0  North Western head district: Marylebone (part)...  \n",
       "1  Cricklewood district: Cricklewood, Dollis Hill...  \n",
       "2  Hampstead district: Hampstead, Belsize Park, F...  \n",
       "3        Hendon district: Hendon, Brent Cross (part)  \n",
       "4  Kentish Town district: Kentish Town, Camden To...  "
      ]
     },
     "execution_count": 64,
     "metadata": {},
     "output_type": "execute_result"
    }
   ],
   "source": [
    "df_NW.head()"
   ]
  },
  {
   "cell_type": "markdown",
   "metadata": {},
   "source": [
    "## "
   ]
  },
  {
   "cell_type": "markdown",
   "metadata": {},
   "source": [
    "### Northern district"
   ]
  },
  {
   "cell_type": "markdown",
   "metadata": {},
   "source": [
    "##### The web-page was saved in the save depository in Jupyter noteboks.\n",
    "##### Using beautiful soup to extract data from https://en.wikipedia.org/wiki/N_postcode_area html file:"
   ]
  },
  {
   "cell_type": "code",
   "execution_count": 65,
   "metadata": {},
   "outputs": [],
   "source": [
    "with open('N postcode area - Wikipedia.html') as html_file:\n",
    "    soupN = BeautifulSoup(html_file, \"html.parser\")"
   ]
  },
  {
   "cell_type": "markdown",
   "metadata": {},
   "source": [
    "##### Extracting table from given code:"
   ]
  },
  {
   "cell_type": "code",
   "execution_count": 66,
   "metadata": {},
   "outputs": [],
   "source": [
    "raw_tableN = soupN.find(\"table\", attrs={\"class\": \"wikitable\"})\n",
    "raw_table_dataN = raw_tableN.tbody.find_all(\"tr\")\n",
    "raw_table_textsN = raw_tableN.text\n",
    "table_N = raw_table_textsN.splitlines()"
   ]
  },
  {
   "cell_type": "markdown",
   "metadata": {},
   "source": [
    "##### Creating list with only Postcode, Local authority and Coverage of the jurisdiction data: "
   ]
  },
  {
   "cell_type": "code",
   "execution_count": 67,
   "metadata": {},
   "outputs": [],
   "source": [
    "tabN = [i for i in table_N if i != '' and i != 'LONDON' and i != 'non-geographic']"
   ]
  },
  {
   "cell_type": "markdown",
   "metadata": {},
   "source": [
    "##### Removing headings:"
   ]
  },
  {
   "cell_type": "code",
   "execution_count": 68,
   "metadata": {},
   "outputs": [],
   "source": [
    "tabN.remove('Local authority area')\n",
    "tabN.remove('Coverage')\n",
    "tabN.remove('Postcode district')\n",
    "tabN.remove('Post town')\n",
    "tabN.remove(\"N1P\")\n",
    "tabN.remove(\"N81\")\n",
    "tabN.remove(\"PO boxes in N1 and N1C\")\n",
    "tabN.remove(\"Electoral Reform Services\")"
   ]
  },
  {
   "cell_type": "markdown",
   "metadata": {},
   "source": [
    "##### Creating empty tables in which the data will be assigned using for loop:"
   ]
  },
  {
   "cell_type": "code",
   "execution_count": 69,
   "metadata": {},
   "outputs": [],
   "source": [
    "ps_code_distrN = []\n",
    "coverageN = []\n",
    "loc_auth_areaN =[]\n",
    "\n",
    "\n",
    "for i, row in enumerate(tabN):\n",
    "    if i % 3 == 0:\n",
    "        ps_code_distrN.append(row)\n",
    "    elif (i + 1) % 3 == 0:\n",
    "        coverageN.append(row)\n",
    "    elif ((i + 1) + 1) % 3 ==0:\n",
    "        loc_auth_areaN.append(row)"
   ]
  },
  {
   "cell_type": "markdown",
   "metadata": {},
   "source": [
    "##### Creating empty Data Frame with determined earlier heading names for Northern post codes:"
   ]
  },
  {
   "cell_type": "code",
   "execution_count": 70,
   "metadata": {},
   "outputs": [],
   "source": [
    "df_N = pd.DataFrame(columns = heading )"
   ]
  },
  {
   "cell_type": "markdown",
   "metadata": {},
   "source": [
    "##### Adding data to created earlier Data Frame:  "
   ]
  },
  {
   "cell_type": "code",
   "execution_count": 71,
   "metadata": {},
   "outputs": [],
   "source": [
    "df_N['Postcode district'] = ps_code_distrN\n",
    "df_N['Coverage'] = coverageN\n",
    "df_N['Local autority area'] = loc_auth_areaN"
   ]
  },
  {
   "cell_type": "markdown",
   "metadata": {},
   "source": [
    "##### Data overview:  "
   ]
  },
  {
   "cell_type": "code",
   "execution_count": 72,
   "metadata": {},
   "outputs": [
    {
     "data": {
      "text/html": [
       "<div>\n",
       "<style scoped>\n",
       "    .dataframe tbody tr th:only-of-type {\n",
       "        vertical-align: middle;\n",
       "    }\n",
       "\n",
       "    .dataframe tbody tr th {\n",
       "        vertical-align: top;\n",
       "    }\n",
       "\n",
       "    .dataframe thead th {\n",
       "        text-align: right;\n",
       "    }\n",
       "</style>\n",
       "<table border=\"1\" class=\"dataframe\">\n",
       "  <thead>\n",
       "    <tr style=\"text-align: right;\">\n",
       "      <th></th>\n",
       "      <th>Postcode district</th>\n",
       "      <th>Coverage</th>\n",
       "      <th>Local autority area</th>\n",
       "    </tr>\n",
       "  </thead>\n",
       "  <tbody>\n",
       "    <tr>\n",
       "      <th>0</th>\n",
       "      <td>N1</td>\n",
       "      <td>Hackney, Islington, Camden</td>\n",
       "      <td>Northern head district: Barnsbury (part), Cano...</td>\n",
       "    </tr>\n",
       "    <tr>\n",
       "      <th>1</th>\n",
       "      <td>N1C</td>\n",
       "      <td>Camden</td>\n",
       "      <td>Kings Cross Central</td>\n",
       "    </tr>\n",
       "    <tr>\n",
       "      <th>2</th>\n",
       "      <td>N2</td>\n",
       "      <td>Barnet, Haringey</td>\n",
       "      <td>East Finchley district: East Finchley, Fortis ...</td>\n",
       "    </tr>\n",
       "    <tr>\n",
       "      <th>3</th>\n",
       "      <td>N3</td>\n",
       "      <td>Barnet</td>\n",
       "      <td>Finchley district: Finchley, Church End, Finch...</td>\n",
       "    </tr>\n",
       "    <tr>\n",
       "      <th>4</th>\n",
       "      <td>N4</td>\n",
       "      <td>Haringey, Islington, Hackney</td>\n",
       "      <td>Finsbury Park district: Finsbury Park, Manor H...</td>\n",
       "    </tr>\n",
       "  </tbody>\n",
       "</table>\n",
       "</div>"
      ],
      "text/plain": [
       "  Postcode district                      Coverage  \\\n",
       "0                N1    Hackney, Islington, Camden   \n",
       "1               N1C                        Camden   \n",
       "2                N2              Barnet, Haringey   \n",
       "3                N3                        Barnet   \n",
       "4                N4  Haringey, Islington, Hackney   \n",
       "\n",
       "                                 Local autority area  \n",
       "0  Northern head district: Barnsbury (part), Cano...  \n",
       "1                                Kings Cross Central  \n",
       "2  East Finchley district: East Finchley, Fortis ...  \n",
       "3  Finchley district: Finchley, Church End, Finch...  \n",
       "4  Finsbury Park district: Finsbury Park, Manor H...  "
      ]
     },
     "execution_count": 72,
     "metadata": {},
     "output_type": "execute_result"
    }
   ],
   "source": [
    "df_N.head()"
   ]
  },
  {
   "cell_type": "markdown",
   "metadata": {},
   "source": [
    "### "
   ]
  },
  {
   "cell_type": "markdown",
   "metadata": {},
   "source": [
    "# Step 2) London postcodes database"
   ]
  },
  {
   "cell_type": "markdown",
   "metadata": {},
   "source": [
    "### Creating a collaborative table with all Post codes in London."
   ]
  },
  {
   "cell_type": "markdown",
   "metadata": {},
   "source": [
    "#### Creating a new empty data frame to store all postcode data:"
   ]
  },
  {
   "cell_type": "code",
   "execution_count": 73,
   "metadata": {},
   "outputs": [],
   "source": [
    "df_London =pd.DataFrame(columns = heading )"
   ]
  },
  {
   "cell_type": "markdown",
   "metadata": {},
   "source": [
    "#### Appending all Post Code data to a newly created London post codes data frame:"
   ]
  },
  {
   "cell_type": "code",
   "execution_count": 74,
   "metadata": {},
   "outputs": [],
   "source": [
    "df_London = df_London.append(df_E, ignore_index=True)\n",
    "df_London = df_London.append(df_EC, ignore_index=True)\n",
    "df_London = df_London.append(df_SE, ignore_index=True)\n",
    "df_London = df_London.append(df_SW, ignore_index=True)\n",
    "df_London = df_London.append(df_WC, ignore_index=True)\n",
    "df_London = df_London.append(df_W, ignore_index=True)\n",
    "df_London = df_London.append(df_NW, ignore_index=True)\n",
    "df_London = df_London.append(df_N, ignore_index=True)"
   ]
  },
  {
   "cell_type": "markdown",
   "metadata": {},
   "source": [
    "#### Data overview "
   ]
  },
  {
   "cell_type": "code",
   "execution_count": 75,
   "metadata": {},
   "outputs": [
    {
     "data": {
      "text/html": [
       "<div>\n",
       "<style scoped>\n",
       "    .dataframe tbody tr th:only-of-type {\n",
       "        vertical-align: middle;\n",
       "    }\n",
       "\n",
       "    .dataframe tbody tr th {\n",
       "        vertical-align: top;\n",
       "    }\n",
       "\n",
       "    .dataframe thead th {\n",
       "        text-align: right;\n",
       "    }\n",
       "</style>\n",
       "<table border=\"1\" class=\"dataframe\">\n",
       "  <thead>\n",
       "    <tr style=\"text-align: right;\">\n",
       "      <th></th>\n",
       "      <th>Postcode district</th>\n",
       "      <th>Coverage</th>\n",
       "      <th>Local autority area</th>\n",
       "    </tr>\n",
       "  </thead>\n",
       "  <tbody>\n",
       "    <tr>\n",
       "      <th>0</th>\n",
       "      <td>E1</td>\n",
       "      <td>Tower Hamlets, Hackney, City of London</td>\n",
       "      <td>Eastern head district: Aldgate (part), Bishops...</td>\n",
       "    </tr>\n",
       "    <tr>\n",
       "      <th>1</th>\n",
       "      <td>E1W</td>\n",
       "      <td>Tower Hamlets</td>\n",
       "      <td>Wapping, St Katharine Docks, Stepney (part), S...</td>\n",
       "    </tr>\n",
       "    <tr>\n",
       "      <th>2</th>\n",
       "      <td>E2</td>\n",
       "      <td>Tower Hamlets, Hackney</td>\n",
       "      <td>Bethnal Green district: Bethnal Green, Haggers...</td>\n",
       "    </tr>\n",
       "    <tr>\n",
       "      <th>3</th>\n",
       "      <td>E3</td>\n",
       "      <td>Tower Hamlets, Newham</td>\n",
       "      <td>Bow district: Bow, Bow Common, Bromley-by-Bow,...</td>\n",
       "    </tr>\n",
       "    <tr>\n",
       "      <th>4</th>\n",
       "      <td>E4</td>\n",
       "      <td>Waltham Forest, Enfield, Epping Forest (Essex)</td>\n",
       "      <td>Chingford district: Chingford, Sewardstone, Hi...</td>\n",
       "    </tr>\n",
       "    <tr>\n",
       "      <th>...</th>\n",
       "      <td>...</td>\n",
       "      <td>...</td>\n",
       "      <td>...</td>\n",
       "    </tr>\n",
       "    <tr>\n",
       "      <th>181</th>\n",
       "      <td>N18</td>\n",
       "      <td>Enfield</td>\n",
       "      <td>Upper Edmonton district: Upper Edmonton, Edmon...</td>\n",
       "    </tr>\n",
       "    <tr>\n",
       "      <th>182</th>\n",
       "      <td>N19</td>\n",
       "      <td>Islington, Camden</td>\n",
       "      <td>Upper Holloway district: Upper Holloway, Archw...</td>\n",
       "    </tr>\n",
       "    <tr>\n",
       "      <th>183</th>\n",
       "      <td>N20</td>\n",
       "      <td>Barnet</td>\n",
       "      <td>Whetstone district: Whetstone, Totteridge, Oak...</td>\n",
       "    </tr>\n",
       "    <tr>\n",
       "      <th>184</th>\n",
       "      <td>N21</td>\n",
       "      <td>Enfield</td>\n",
       "      <td>Winchmore Hill district: Winchmore Hill, Bush ...</td>\n",
       "    </tr>\n",
       "    <tr>\n",
       "      <th>185</th>\n",
       "      <td>N22</td>\n",
       "      <td>Haringey, Enfield</td>\n",
       "      <td>Wood Green district: Wood Green, Bounds Green ...</td>\n",
       "    </tr>\n",
       "  </tbody>\n",
       "</table>\n",
       "<p>186 rows × 3 columns</p>\n",
       "</div>"
      ],
      "text/plain": [
       "    Postcode district                                        Coverage  \\\n",
       "0                  E1          Tower Hamlets, Hackney, City of London   \n",
       "1                 E1W                                   Tower Hamlets   \n",
       "2                  E2                          Tower Hamlets, Hackney   \n",
       "3                  E3                           Tower Hamlets, Newham   \n",
       "4                  E4  Waltham Forest, Enfield, Epping Forest (Essex)   \n",
       "..                ...                                             ...   \n",
       "181               N18                                         Enfield   \n",
       "182               N19                               Islington, Camden   \n",
       "183               N20                                          Barnet   \n",
       "184               N21                                         Enfield   \n",
       "185               N22                               Haringey, Enfield   \n",
       "\n",
       "                                   Local autority area  \n",
       "0    Eastern head district: Aldgate (part), Bishops...  \n",
       "1    Wapping, St Katharine Docks, Stepney (part), S...  \n",
       "2    Bethnal Green district: Bethnal Green, Haggers...  \n",
       "3    Bow district: Bow, Bow Common, Bromley-by-Bow,...  \n",
       "4    Chingford district: Chingford, Sewardstone, Hi...  \n",
       "..                                                 ...  \n",
       "181  Upper Edmonton district: Upper Edmonton, Edmon...  \n",
       "182  Upper Holloway district: Upper Holloway, Archw...  \n",
       "183  Whetstone district: Whetstone, Totteridge, Oak...  \n",
       "184  Winchmore Hill district: Winchmore Hill, Bush ...  \n",
       "185  Wood Green district: Wood Green, Bounds Green ...  \n",
       "\n",
       "[186 rows x 3 columns]"
      ]
     },
     "execution_count": 75,
     "metadata": {},
     "output_type": "execute_result"
    }
   ],
   "source": [
    "df_London"
   ]
  },
  {
   "cell_type": "markdown",
   "metadata": {},
   "source": [
    "# Step 3) London Geo-spatial data"
   ]
  },
  {
   "cell_type": "markdown",
   "metadata": {},
   "source": [
    "#### Loading postcode out-codes Geo-spatial data into a table:\n",
    "##### This table have all UK postcodes with their longitude and latitude."
   ]
  },
  {
   "cell_type": "code",
   "execution_count": 76,
   "metadata": {},
   "outputs": [
    {
     "name": "stdout",
     "output_type": "stream",
     "text": [
      "        id postcode  latitude  longitude\n",
      "0        2     AB10  57.13514   -2.11731\n",
      "1        3     AB11  57.13875   -2.09089\n",
      "2        4     AB12  57.10100   -2.11060\n",
      "3        5     AB13  57.10801   -2.23776\n",
      "4        6     AB14  57.10076   -2.27073\n",
      "...    ...      ...       ...        ...\n",
      "2998  3001     WV98   0.00000    0.00000\n",
      "2999  3002      S95   0.00000    0.00000\n",
      "3000  3003     PA80   0.00000    0.00000\n",
      "3001  3004      L80   0.00000    0.00000\n",
      "3002  3005      BS0   0.00000    0.00000\n",
      "\n",
      "[3003 rows x 4 columns]\n"
     ]
    }
   ],
   "source": [
    "df_gc = pd.read_csv('postcode-outcodes.csv')\n",
    "print(df_gc)"
   ]
  },
  {
   "cell_type": "markdown",
   "metadata": {},
   "source": [
    "#### Dropping redundant information"
   ]
  },
  {
   "cell_type": "code",
   "execution_count": 77,
   "metadata": {},
   "outputs": [],
   "source": [
    "df_gc.drop(columns = 'id', axis = 1, inplace = True)"
   ]
  },
  {
   "cell_type": "markdown",
   "metadata": {},
   "source": [
    "#### Making sure all column names are matching for both databases:"
   ]
  },
  {
   "cell_type": "code",
   "execution_count": 78,
   "metadata": {},
   "outputs": [],
   "source": [
    "df_London.rename(columns={\"Postcode district\": \"postcode\"}, inplace = True)"
   ]
  },
  {
   "cell_type": "markdown",
   "metadata": {},
   "source": [
    "#### Connecting both London postcodes data frame with its longitude and latitude using a pandas Left Join command:  \n",
    "##### Using left join command will make sure only needed information will be added."
   ]
  },
  {
   "cell_type": "code",
   "execution_count": 79,
   "metadata": {},
   "outputs": [],
   "source": [
    "df_LondL = pd.merge(df_London, df_gc, on = 'postcode', how='left')"
   ]
  },
  {
   "cell_type": "markdown",
   "metadata": {},
   "source": [
    "#### Data overview"
   ]
  },
  {
   "cell_type": "code",
   "execution_count": 80,
   "metadata": {},
   "outputs": [
    {
     "data": {
      "text/html": [
       "<div>\n",
       "<style scoped>\n",
       "    .dataframe tbody tr th:only-of-type {\n",
       "        vertical-align: middle;\n",
       "    }\n",
       "\n",
       "    .dataframe tbody tr th {\n",
       "        vertical-align: top;\n",
       "    }\n",
       "\n",
       "    .dataframe thead th {\n",
       "        text-align: right;\n",
       "    }\n",
       "</style>\n",
       "<table border=\"1\" class=\"dataframe\">\n",
       "  <thead>\n",
       "    <tr style=\"text-align: right;\">\n",
       "      <th></th>\n",
       "      <th>postcode</th>\n",
       "      <th>Coverage</th>\n",
       "      <th>Local autority area</th>\n",
       "      <th>latitude</th>\n",
       "      <th>longitude</th>\n",
       "    </tr>\n",
       "  </thead>\n",
       "  <tbody>\n",
       "    <tr>\n",
       "      <th>0</th>\n",
       "      <td>E1</td>\n",
       "      <td>Tower Hamlets, Hackney, City of London</td>\n",
       "      <td>Eastern head district: Aldgate (part), Bishops...</td>\n",
       "      <td>51.51766</td>\n",
       "      <td>-0.05841</td>\n",
       "    </tr>\n",
       "    <tr>\n",
       "      <th>1</th>\n",
       "      <td>E1W</td>\n",
       "      <td>Tower Hamlets</td>\n",
       "      <td>Wapping, St Katharine Docks, Stepney (part), S...</td>\n",
       "      <td>51.50775</td>\n",
       "      <td>-0.05739</td>\n",
       "    </tr>\n",
       "    <tr>\n",
       "      <th>2</th>\n",
       "      <td>E2</td>\n",
       "      <td>Tower Hamlets, Hackney</td>\n",
       "      <td>Bethnal Green district: Bethnal Green, Haggers...</td>\n",
       "      <td>51.52939</td>\n",
       "      <td>-0.06080</td>\n",
       "    </tr>\n",
       "    <tr>\n",
       "      <th>3</th>\n",
       "      <td>E3</td>\n",
       "      <td>Tower Hamlets, Newham</td>\n",
       "      <td>Bow district: Bow, Bow Common, Bromley-by-Bow,...</td>\n",
       "      <td>51.52789</td>\n",
       "      <td>-0.02482</td>\n",
       "    </tr>\n",
       "    <tr>\n",
       "      <th>4</th>\n",
       "      <td>E4</td>\n",
       "      <td>Waltham Forest, Enfield, Epping Forest (Essex)</td>\n",
       "      <td>Chingford district: Chingford, Sewardstone, Hi...</td>\n",
       "      <td>51.62196</td>\n",
       "      <td>-0.00339</td>\n",
       "    </tr>\n",
       "    <tr>\n",
       "      <th>...</th>\n",
       "      <td>...</td>\n",
       "      <td>...</td>\n",
       "      <td>...</td>\n",
       "      <td>...</td>\n",
       "      <td>...</td>\n",
       "    </tr>\n",
       "    <tr>\n",
       "      <th>181</th>\n",
       "      <td>N18</td>\n",
       "      <td>Enfield</td>\n",
       "      <td>Upper Edmonton district: Upper Edmonton, Edmon...</td>\n",
       "      <td>51.61309</td>\n",
       "      <td>-0.06446</td>\n",
       "    </tr>\n",
       "    <tr>\n",
       "      <th>182</th>\n",
       "      <td>N19</td>\n",
       "      <td>Islington, Camden</td>\n",
       "      <td>Upper Holloway district: Upper Holloway, Archw...</td>\n",
       "      <td>51.56464</td>\n",
       "      <td>-0.12712</td>\n",
       "    </tr>\n",
       "    <tr>\n",
       "      <th>183</th>\n",
       "      <td>N20</td>\n",
       "      <td>Barnet</td>\n",
       "      <td>Whetstone district: Whetstone, Totteridge, Oak...</td>\n",
       "      <td>51.62923</td>\n",
       "      <td>-0.17359</td>\n",
       "    </tr>\n",
       "    <tr>\n",
       "      <th>184</th>\n",
       "      <td>N21</td>\n",
       "      <td>Enfield</td>\n",
       "      <td>Winchmore Hill district: Winchmore Hill, Bush ...</td>\n",
       "      <td>51.63612</td>\n",
       "      <td>-0.09816</td>\n",
       "    </tr>\n",
       "    <tr>\n",
       "      <th>185</th>\n",
       "      <td>N22</td>\n",
       "      <td>Haringey, Enfield</td>\n",
       "      <td>Wood Green district: Wood Green, Bounds Green ...</td>\n",
       "      <td>51.59944</td>\n",
       "      <td>-0.10980</td>\n",
       "    </tr>\n",
       "  </tbody>\n",
       "</table>\n",
       "<p>186 rows × 5 columns</p>\n",
       "</div>"
      ],
      "text/plain": [
       "    postcode                                        Coverage  \\\n",
       "0         E1          Tower Hamlets, Hackney, City of London   \n",
       "1        E1W                                   Tower Hamlets   \n",
       "2         E2                          Tower Hamlets, Hackney   \n",
       "3         E3                           Tower Hamlets, Newham   \n",
       "4         E4  Waltham Forest, Enfield, Epping Forest (Essex)   \n",
       "..       ...                                             ...   \n",
       "181      N18                                         Enfield   \n",
       "182      N19                               Islington, Camden   \n",
       "183      N20                                          Barnet   \n",
       "184      N21                                         Enfield   \n",
       "185      N22                               Haringey, Enfield   \n",
       "\n",
       "                                   Local autority area  latitude  longitude  \n",
       "0    Eastern head district: Aldgate (part), Bishops...  51.51766   -0.05841  \n",
       "1    Wapping, St Katharine Docks, Stepney (part), S...  51.50775   -0.05739  \n",
       "2    Bethnal Green district: Bethnal Green, Haggers...  51.52939   -0.06080  \n",
       "3    Bow district: Bow, Bow Common, Bromley-by-Bow,...  51.52789   -0.02482  \n",
       "4    Chingford district: Chingford, Sewardstone, Hi...  51.62196   -0.00339  \n",
       "..                                                 ...       ...        ...  \n",
       "181  Upper Edmonton district: Upper Edmonton, Edmon...  51.61309   -0.06446  \n",
       "182  Upper Holloway district: Upper Holloway, Archw...  51.56464   -0.12712  \n",
       "183  Whetstone district: Whetstone, Totteridge, Oak...  51.62923   -0.17359  \n",
       "184  Winchmore Hill district: Winchmore Hill, Bush ...  51.63612   -0.09816  \n",
       "185  Wood Green district: Wood Green, Bounds Green ...  51.59944   -0.10980  \n",
       "\n",
       "[186 rows x 5 columns]"
      ]
     },
     "execution_count": 80,
     "metadata": {},
     "output_type": "execute_result"
    }
   ],
   "source": [
    "df_LondL"
   ]
  },
  {
   "cell_type": "markdown",
   "metadata": {},
   "source": [
    "# Step 4) Foursquare data "
   ]
  },
  {
   "cell_type": "markdown",
   "metadata": {},
   "source": [
    "#### Establishing connection with Foursquare:\n",
    "##### Data were later obscured for a privacy reasons. "
   ]
  },
  {
   "cell_type": "code",
   "execution_count": 81,
   "metadata": {},
   "outputs": [],
   "source": [
    "CLIENT_ID = 'YXW00NBBTW1*************' # your Foursquare ID\n",
    "CLIENT_SECRET = '0PPAXMIVS***************' # your Foursquare Secret\n",
    "VERSION = '20180604'\n",
    "LIMIT = 30\n",
    "#print('Your credentails:')\n",
    "#print('CLIENT_ID: ' + CLIENT_ID)\n",
    "#print('CLIENT_SECRET:' + CLIENT_SECRET)"
   ]
  },
  {
   "cell_type": "markdown",
   "metadata": {},
   "source": [
    "#### Using Foursquare to get London Geo-location data:"
   ]
  },
  {
   "cell_type": "code",
   "execution_count": 82,
   "metadata": {},
   "outputs": [
    {
     "name": "stdout",
     "output_type": "stream",
     "text": [
      "51.5073219 -0.1276474\n"
     ]
    }
   ],
   "source": [
    "address = 'London'\n",
    "\n",
    "geolocator = Nominatim(user_agent=\"foursquare_agent\")\n",
    "location = geolocator.geocode(address)\n",
    "latitude = location.latitude\n",
    "longitude = location.longitude\n",
    "print(latitude, longitude)"
   ]
  },
  {
   "cell_type": "markdown",
   "metadata": {},
   "source": [
    "#### Using Foursquare to find vegan restaurants in a 30 000 m radius from the center of London, which covers all London area. "
   ]
  },
  {
   "cell_type": "code",
   "execution_count": 83,
   "metadata": {},
   "outputs": [
    {
     "name": "stdout",
     "output_type": "stream",
     "text": [
      "vegan .... OK!\n"
     ]
    }
   ],
   "source": [
    "search_query = 'vegan'\n",
    "radius = 30000\n",
    "print(search_query + ' .... OK!')"
   ]
  },
  {
   "cell_type": "markdown",
   "metadata": {},
   "source": [
    "#### Define URL"
   ]
  },
  {
   "cell_type": "code",
   "execution_count": 84,
   "metadata": {},
   "outputs": [],
   "source": [
    "url = 'https://api.foursquare.com/v2/venues/search?client_id={}&client_secret={}&ll={},{}&v={}&query={}&radius={}&limit={}'.format(CLIENT_ID, CLIENT_SECRET, latitude, longitude, VERSION, search_query, radius, LIMIT)"
   ]
  },
  {
   "cell_type": "markdown",
   "metadata": {},
   "source": [
    "#### Get the requests and examine results:"
   ]
  },
  {
   "cell_type": "code",
   "execution_count": 87,
   "metadata": {},
   "outputs": [],
   "source": [
    "results = requests.get(url).json()\n"
   ]
  },
  {
   "cell_type": "markdown",
   "metadata": {},
   "source": [
    "#### Get relevant part of JSON"
   ]
  },
  {
   "cell_type": "code",
   "execution_count": 88,
   "metadata": {},
   "outputs": [
    {
     "name": "stderr",
     "output_type": "stream",
     "text": [
      "/home/jupyterlab/conda/envs/python/lib/python3.6/site-packages/ipykernel_launcher.py:5: FutureWarning: pandas.io.json.json_normalize is deprecated, use pandas.json_normalize instead\n",
      "  \"\"\"\n"
     ]
    },
    {
     "data": {
      "text/html": [
       "<div>\n",
       "<style scoped>\n",
       "    .dataframe tbody tr th:only-of-type {\n",
       "        vertical-align: middle;\n",
       "    }\n",
       "\n",
       "    .dataframe tbody tr th {\n",
       "        vertical-align: top;\n",
       "    }\n",
       "\n",
       "    .dataframe thead th {\n",
       "        text-align: right;\n",
       "    }\n",
       "</style>\n",
       "<table border=\"1\" class=\"dataframe\">\n",
       "  <thead>\n",
       "    <tr style=\"text-align: right;\">\n",
       "      <th></th>\n",
       "      <th>id</th>\n",
       "      <th>name</th>\n",
       "      <th>categories</th>\n",
       "      <th>referralId</th>\n",
       "      <th>hasPerk</th>\n",
       "      <th>location.address</th>\n",
       "      <th>location.lat</th>\n",
       "      <th>location.lng</th>\n",
       "      <th>location.labeledLatLngs</th>\n",
       "      <th>location.distance</th>\n",
       "      <th>location.postalCode</th>\n",
       "      <th>location.cc</th>\n",
       "      <th>location.city</th>\n",
       "      <th>location.state</th>\n",
       "      <th>location.country</th>\n",
       "      <th>location.formattedAddress</th>\n",
       "      <th>venuePage.id</th>\n",
       "      <th>location.neighborhood</th>\n",
       "      <th>location.crossStreet</th>\n",
       "    </tr>\n",
       "  </thead>\n",
       "  <tbody>\n",
       "    <tr>\n",
       "      <th>0</th>\n",
       "      <td>59ada1f8febf314589c6f8d5</td>\n",
       "      <td>Vegan Yes</td>\n",
       "      <td>[{'id': '4bf58dd8d48988d1d3941735', 'name': 'V...</td>\n",
       "      <td>v-1594072245</td>\n",
       "      <td>False</td>\n",
       "      <td>64 Brick Ln</td>\n",
       "      <td>51.518734</td>\n",
       "      <td>-0.071483</td>\n",
       "      <td>[{'label': 'display', 'lat': 51.518734, 'lng':...</td>\n",
       "      <td>4093</td>\n",
       "      <td>E1 6QL</td>\n",
       "      <td>GB</td>\n",
       "      <td>London</td>\n",
       "      <td>Greater London</td>\n",
       "      <td>United Kingdom</td>\n",
       "      <td>[64 Brick Ln, London, Greater London, E1 6QL, ...</td>\n",
       "      <td>NaN</td>\n",
       "      <td>NaN</td>\n",
       "      <td>NaN</td>\n",
       "    </tr>\n",
       "    <tr>\n",
       "      <th>1</th>\n",
       "      <td>5848791af68d8d38cfcf6446</td>\n",
       "      <td>Vegan Burgers by Mooshies</td>\n",
       "      <td>[{'id': '4bf58dd8d48988d1d3941735', 'name': 'V...</td>\n",
       "      <td>v-1594072245</td>\n",
       "      <td>False</td>\n",
       "      <td>104 Brick Ln</td>\n",
       "      <td>51.519731</td>\n",
       "      <td>-0.071783</td>\n",
       "      <td>[{'label': 'display', 'lat': 51.51973095696915...</td>\n",
       "      <td>4109</td>\n",
       "      <td>E1 6RL</td>\n",
       "      <td>GB</td>\n",
       "      <td>London</td>\n",
       "      <td>Greater London</td>\n",
       "      <td>United Kingdom</td>\n",
       "      <td>[104 Brick Ln, London, Greater London, E1 6RL,...</td>\n",
       "      <td>NaN</td>\n",
       "      <td>NaN</td>\n",
       "      <td>NaN</td>\n",
       "    </tr>\n",
       "    <tr>\n",
       "      <th>2</th>\n",
       "      <td>5437b093498e11e3771b4a2c</td>\n",
       "      <td>Vegan Sweet Tooth</td>\n",
       "      <td>[{'id': '4bf58dd8d48988d1cb941735', 'name': 'F...</td>\n",
       "      <td>v-1594072245</td>\n",
       "      <td>False</td>\n",
       "      <td>NaN</td>\n",
       "      <td>51.520467</td>\n",
       "      <td>-0.072473</td>\n",
       "      <td>[{'label': 'display', 'lat': 51.52046677379518...</td>\n",
       "      <td>4092</td>\n",
       "      <td>NaN</td>\n",
       "      <td>GB</td>\n",
       "      <td>NaN</td>\n",
       "      <td>NaN</td>\n",
       "      <td>United Kingdom</td>\n",
       "      <td>[United Kingdom]</td>\n",
       "      <td>NaN</td>\n",
       "      <td>NaN</td>\n",
       "      <td>NaN</td>\n",
       "    </tr>\n",
       "    <tr>\n",
       "      <th>3</th>\n",
       "      <td>5ad1edfe3ba7671c3ec4b6f8</td>\n",
       "      <td>Soho Vegan Market</td>\n",
       "      <td>[{'id': '4bf58dd8d48988d1d3941735', 'name': 'V...</td>\n",
       "      <td>v-1594072245</td>\n",
       "      <td>False</td>\n",
       "      <td>Rupert Street</td>\n",
       "      <td>51.512285</td>\n",
       "      <td>-0.133766</td>\n",
       "      <td>[{'label': 'display', 'lat': 51.512285, 'lng':...</td>\n",
       "      <td>696</td>\n",
       "      <td>W1D 7PP</td>\n",
       "      <td>GB</td>\n",
       "      <td>London</td>\n",
       "      <td>Greater London</td>\n",
       "      <td>United Kingdom</td>\n",
       "      <td>[Rupert Street, London, Greater London, W1D 7P...</td>\n",
       "      <td>NaN</td>\n",
       "      <td>NaN</td>\n",
       "      <td>NaN</td>\n",
       "    </tr>\n",
       "    <tr>\n",
       "      <th>4</th>\n",
       "      <td>4bd2ccb39854d13aa352fc4d</td>\n",
       "      <td>222 Veggie Vegan</td>\n",
       "      <td>[{'id': '4bf58dd8d48988d1d3941735', 'name': 'V...</td>\n",
       "      <td>v-1594072245</td>\n",
       "      <td>False</td>\n",
       "      <td>222 North End Rd</td>\n",
       "      <td>51.486076</td>\n",
       "      <td>-0.202802</td>\n",
       "      <td>[{'label': 'display', 'lat': 51.48607614693036...</td>\n",
       "      <td>5720</td>\n",
       "      <td>W14 9NU</td>\n",
       "      <td>GB</td>\n",
       "      <td>Hammersmith</td>\n",
       "      <td>Greater London</td>\n",
       "      <td>United Kingdom</td>\n",
       "      <td>[222 North End Rd, Hammersmith, Greater London...</td>\n",
       "      <td>NaN</td>\n",
       "      <td>NaN</td>\n",
       "      <td>NaN</td>\n",
       "    </tr>\n",
       "  </tbody>\n",
       "</table>\n",
       "</div>"
      ],
      "text/plain": [
       "                         id                       name  \\\n",
       "0  59ada1f8febf314589c6f8d5                  Vegan Yes   \n",
       "1  5848791af68d8d38cfcf6446  Vegan Burgers by Mooshies   \n",
       "2  5437b093498e11e3771b4a2c          Vegan Sweet Tooth   \n",
       "3  5ad1edfe3ba7671c3ec4b6f8          Soho Vegan Market   \n",
       "4  4bd2ccb39854d13aa352fc4d           222 Veggie Vegan   \n",
       "\n",
       "                                          categories    referralId  hasPerk  \\\n",
       "0  [{'id': '4bf58dd8d48988d1d3941735', 'name': 'V...  v-1594072245    False   \n",
       "1  [{'id': '4bf58dd8d48988d1d3941735', 'name': 'V...  v-1594072245    False   \n",
       "2  [{'id': '4bf58dd8d48988d1cb941735', 'name': 'F...  v-1594072245    False   \n",
       "3  [{'id': '4bf58dd8d48988d1d3941735', 'name': 'V...  v-1594072245    False   \n",
       "4  [{'id': '4bf58dd8d48988d1d3941735', 'name': 'V...  v-1594072245    False   \n",
       "\n",
       "   location.address  location.lat  location.lng  \\\n",
       "0       64 Brick Ln     51.518734     -0.071483   \n",
       "1      104 Brick Ln     51.519731     -0.071783   \n",
       "2               NaN     51.520467     -0.072473   \n",
       "3     Rupert Street     51.512285     -0.133766   \n",
       "4  222 North End Rd     51.486076     -0.202802   \n",
       "\n",
       "                             location.labeledLatLngs  location.distance  \\\n",
       "0  [{'label': 'display', 'lat': 51.518734, 'lng':...               4093   \n",
       "1  [{'label': 'display', 'lat': 51.51973095696915...               4109   \n",
       "2  [{'label': 'display', 'lat': 51.52046677379518...               4092   \n",
       "3  [{'label': 'display', 'lat': 51.512285, 'lng':...                696   \n",
       "4  [{'label': 'display', 'lat': 51.48607614693036...               5720   \n",
       "\n",
       "  location.postalCode location.cc location.city  location.state  \\\n",
       "0              E1 6QL          GB        London  Greater London   \n",
       "1              E1 6RL          GB        London  Greater London   \n",
       "2                 NaN          GB           NaN             NaN   \n",
       "3             W1D 7PP          GB        London  Greater London   \n",
       "4             W14 9NU          GB   Hammersmith  Greater London   \n",
       "\n",
       "  location.country                          location.formattedAddress  \\\n",
       "0   United Kingdom  [64 Brick Ln, London, Greater London, E1 6QL, ...   \n",
       "1   United Kingdom  [104 Brick Ln, London, Greater London, E1 6RL,...   \n",
       "2   United Kingdom                                   [United Kingdom]   \n",
       "3   United Kingdom  [Rupert Street, London, Greater London, W1D 7P...   \n",
       "4   United Kingdom  [222 North End Rd, Hammersmith, Greater London...   \n",
       "\n",
       "  venuePage.id location.neighborhood location.crossStreet  \n",
       "0          NaN                   NaN                  NaN  \n",
       "1          NaN                   NaN                  NaN  \n",
       "2          NaN                   NaN                  NaN  \n",
       "3          NaN                   NaN                  NaN  \n",
       "4          NaN                   NaN                  NaN  "
      ]
     },
     "execution_count": 88,
     "metadata": {},
     "output_type": "execute_result"
    }
   ],
   "source": [
    "# assign relevant part of JSON to venues\n",
    "venues = results['response']['venues']\n",
    "\n",
    "# tranform venues into a dataframe\n",
    "dataframe = json_normalize(venues)\n",
    "dataframe.head()"
   ]
  },
  {
   "cell_type": "markdown",
   "metadata": {},
   "source": [
    "#### Cleaning up the data"
   ]
  },
  {
   "cell_type": "code",
   "execution_count": 89,
   "metadata": {},
   "outputs": [
    {
     "data": {
      "text/html": [
       "<div>\n",
       "<style scoped>\n",
       "    .dataframe tbody tr th:only-of-type {\n",
       "        vertical-align: middle;\n",
       "    }\n",
       "\n",
       "    .dataframe tbody tr th {\n",
       "        vertical-align: top;\n",
       "    }\n",
       "\n",
       "    .dataframe thead th {\n",
       "        text-align: right;\n",
       "    }\n",
       "</style>\n",
       "<table border=\"1\" class=\"dataframe\">\n",
       "  <thead>\n",
       "    <tr style=\"text-align: right;\">\n",
       "      <th></th>\n",
       "      <th>name</th>\n",
       "      <th>categories</th>\n",
       "      <th>address</th>\n",
       "      <th>lat</th>\n",
       "      <th>lng</th>\n",
       "      <th>labeledLatLngs</th>\n",
       "      <th>distance</th>\n",
       "      <th>postalCode</th>\n",
       "      <th>cc</th>\n",
       "      <th>city</th>\n",
       "      <th>state</th>\n",
       "      <th>country</th>\n",
       "      <th>formattedAddress</th>\n",
       "      <th>neighborhood</th>\n",
       "      <th>crossStreet</th>\n",
       "      <th>id</th>\n",
       "    </tr>\n",
       "  </thead>\n",
       "  <tbody>\n",
       "    <tr>\n",
       "      <th>0</th>\n",
       "      <td>Vegan Yes</td>\n",
       "      <td>Vegetarian / Vegan Restaurant</td>\n",
       "      <td>64 Brick Ln</td>\n",
       "      <td>51.518734</td>\n",
       "      <td>-0.071483</td>\n",
       "      <td>[{'label': 'display', 'lat': 51.518734, 'lng':...</td>\n",
       "      <td>4093</td>\n",
       "      <td>E1 6QL</td>\n",
       "      <td>GB</td>\n",
       "      <td>London</td>\n",
       "      <td>Greater London</td>\n",
       "      <td>United Kingdom</td>\n",
       "      <td>[64 Brick Ln, London, Greater London, E1 6QL, ...</td>\n",
       "      <td>NaN</td>\n",
       "      <td>NaN</td>\n",
       "      <td>59ada1f8febf314589c6f8d5</td>\n",
       "    </tr>\n",
       "    <tr>\n",
       "      <th>1</th>\n",
       "      <td>Vegan Burgers by Mooshies</td>\n",
       "      <td>Vegetarian / Vegan Restaurant</td>\n",
       "      <td>104 Brick Ln</td>\n",
       "      <td>51.519731</td>\n",
       "      <td>-0.071783</td>\n",
       "      <td>[{'label': 'display', 'lat': 51.51973095696915...</td>\n",
       "      <td>4109</td>\n",
       "      <td>E1 6RL</td>\n",
       "      <td>GB</td>\n",
       "      <td>London</td>\n",
       "      <td>Greater London</td>\n",
       "      <td>United Kingdom</td>\n",
       "      <td>[104 Brick Ln, London, Greater London, E1 6RL,...</td>\n",
       "      <td>NaN</td>\n",
       "      <td>NaN</td>\n",
       "      <td>5848791af68d8d38cfcf6446</td>\n",
       "    </tr>\n",
       "    <tr>\n",
       "      <th>2</th>\n",
       "      <td>Vegan Sweet Tooth</td>\n",
       "      <td>Food Truck</td>\n",
       "      <td>NaN</td>\n",
       "      <td>51.520467</td>\n",
       "      <td>-0.072473</td>\n",
       "      <td>[{'label': 'display', 'lat': 51.52046677379518...</td>\n",
       "      <td>4092</td>\n",
       "      <td>NaN</td>\n",
       "      <td>GB</td>\n",
       "      <td>NaN</td>\n",
       "      <td>NaN</td>\n",
       "      <td>United Kingdom</td>\n",
       "      <td>[United Kingdom]</td>\n",
       "      <td>NaN</td>\n",
       "      <td>NaN</td>\n",
       "      <td>5437b093498e11e3771b4a2c</td>\n",
       "    </tr>\n",
       "    <tr>\n",
       "      <th>3</th>\n",
       "      <td>Soho Vegan Market</td>\n",
       "      <td>Vegetarian / Vegan Restaurant</td>\n",
       "      <td>Rupert Street</td>\n",
       "      <td>51.512285</td>\n",
       "      <td>-0.133766</td>\n",
       "      <td>[{'label': 'display', 'lat': 51.512285, 'lng':...</td>\n",
       "      <td>696</td>\n",
       "      <td>W1D 7PP</td>\n",
       "      <td>GB</td>\n",
       "      <td>London</td>\n",
       "      <td>Greater London</td>\n",
       "      <td>United Kingdom</td>\n",
       "      <td>[Rupert Street, London, Greater London, W1D 7P...</td>\n",
       "      <td>NaN</td>\n",
       "      <td>NaN</td>\n",
       "      <td>5ad1edfe3ba7671c3ec4b6f8</td>\n",
       "    </tr>\n",
       "    <tr>\n",
       "      <th>4</th>\n",
       "      <td>222 Veggie Vegan</td>\n",
       "      <td>Vegetarian / Vegan Restaurant</td>\n",
       "      <td>222 North End Rd</td>\n",
       "      <td>51.486076</td>\n",
       "      <td>-0.202802</td>\n",
       "      <td>[{'label': 'display', 'lat': 51.48607614693036...</td>\n",
       "      <td>5720</td>\n",
       "      <td>W14 9NU</td>\n",
       "      <td>GB</td>\n",
       "      <td>Hammersmith</td>\n",
       "      <td>Greater London</td>\n",
       "      <td>United Kingdom</td>\n",
       "      <td>[222 North End Rd, Hammersmith, Greater London...</td>\n",
       "      <td>NaN</td>\n",
       "      <td>NaN</td>\n",
       "      <td>4bd2ccb39854d13aa352fc4d</td>\n",
       "    </tr>\n",
       "    <tr>\n",
       "      <th>5</th>\n",
       "      <td>Korean BBQ &amp; Vegan Restaurant</td>\n",
       "      <td>Korean Restaurant</td>\n",
       "      <td>5 Mile End Road</td>\n",
       "      <td>51.519983</td>\n",
       "      <td>-0.056017</td>\n",
       "      <td>[{'label': 'display', 'lat': 51.519983, 'lng':...</td>\n",
       "      <td>5158</td>\n",
       "      <td>E1 4TP</td>\n",
       "      <td>GB</td>\n",
       "      <td>London</td>\n",
       "      <td>Greater London</td>\n",
       "      <td>United Kingdom</td>\n",
       "      <td>[5 Mile End Road, London, Greater London, E1 4...</td>\n",
       "      <td>NaN</td>\n",
       "      <td>NaN</td>\n",
       "      <td>5c2b803618d43b002ce1aae0</td>\n",
       "    </tr>\n",
       "    <tr>\n",
       "      <th>6</th>\n",
       "      <td>Vegan Crosstown Doughnuts</td>\n",
       "      <td>Donut Shop</td>\n",
       "      <td>5-6 Picton Pl</td>\n",
       "      <td>51.515354</td>\n",
       "      <td>-0.151135</td>\n",
       "      <td>[{'label': 'display', 'lat': 51.51535387690779...</td>\n",
       "      <td>1856</td>\n",
       "      <td>W1U 1BW</td>\n",
       "      <td>GB</td>\n",
       "      <td>London</td>\n",
       "      <td>Greater London</td>\n",
       "      <td>United Kingdom</td>\n",
       "      <td>[5-6 Picton Pl, London, Greater London, W1U 1B...</td>\n",
       "      <td>NaN</td>\n",
       "      <td>NaN</td>\n",
       "      <td>5aaf8519e2d4aa7dd23b9325</td>\n",
       "    </tr>\n",
       "    <tr>\n",
       "      <th>7</th>\n",
       "      <td>Astro Vegan</td>\n",
       "      <td>Food Stand</td>\n",
       "      <td>NaN</td>\n",
       "      <td>51.519875</td>\n",
       "      <td>-0.109297</td>\n",
       "      <td>[{'label': 'display', 'lat': 51.519875, 'lng':...</td>\n",
       "      <td>1889</td>\n",
       "      <td>E C1N</td>\n",
       "      <td>GB</td>\n",
       "      <td>London</td>\n",
       "      <td>Greater London</td>\n",
       "      <td>United Kingdom</td>\n",
       "      <td>[London, Greater London, E C1N, United Kingdom]</td>\n",
       "      <td>NaN</td>\n",
       "      <td>NaN</td>\n",
       "      <td>596364a48194fc32008e3118</td>\n",
       "    </tr>\n",
       "    <tr>\n",
       "      <th>8</th>\n",
       "      <td>Vegan Nights London</td>\n",
       "      <td>Vegetarian / Vegan Restaurant</td>\n",
       "      <td>NaN</td>\n",
       "      <td>51.521603</td>\n",
       "      <td>-0.071401</td>\n",
       "      <td>[{'label': 'display', 'lat': 51.521603, 'lng':...</td>\n",
       "      <td>4208</td>\n",
       "      <td>E1</td>\n",
       "      <td>GB</td>\n",
       "      <td>London</td>\n",
       "      <td>Greater London</td>\n",
       "      <td>United Kingdom</td>\n",
       "      <td>[London, Greater London, E1, United Kingdom]</td>\n",
       "      <td>Spitalfields and Banglatown</td>\n",
       "      <td>NaN</td>\n",
       "      <td>59cd593f91eaca3d8eaa4f52</td>\n",
       "    </tr>\n",
       "    <tr>\n",
       "      <th>9</th>\n",
       "      <td>Y Vegan</td>\n",
       "      <td>Vegetarian / Vegan Restaurant</td>\n",
       "      <td>Tabard Street</td>\n",
       "      <td>51.501471</td>\n",
       "      <td>-0.092695</td>\n",
       "      <td>[{'label': 'display', 'lat': 51.501471, 'lng':...</td>\n",
       "      <td>2507</td>\n",
       "      <td>SE1 4JU</td>\n",
       "      <td>GB</td>\n",
       "      <td>London</td>\n",
       "      <td>Greater London</td>\n",
       "      <td>United Kingdom</td>\n",
       "      <td>[Tabard Street, London, Greater London, SE1 4J...</td>\n",
       "      <td>NaN</td>\n",
       "      <td>NaN</td>\n",
       "      <td>5ad875bf4c954c4c42939667</td>\n",
       "    </tr>\n",
       "    <tr>\n",
       "      <th>10</th>\n",
       "      <td>Vegan Veggie Love Cafe</td>\n",
       "      <td>Vegetarian / Vegan Restaurant</td>\n",
       "      <td>29 Corsham Street</td>\n",
       "      <td>51.527583</td>\n",
       "      <td>-0.086871</td>\n",
       "      <td>[{'label': 'display', 'lat': 51.52758268212619...</td>\n",
       "      <td>3614</td>\n",
       "      <td>N1 6DP</td>\n",
       "      <td>GB</td>\n",
       "      <td>London</td>\n",
       "      <td>Greater London</td>\n",
       "      <td>United Kingdom</td>\n",
       "      <td>[29 Corsham Street, London, Greater London, N1...</td>\n",
       "      <td>NaN</td>\n",
       "      <td>NaN</td>\n",
       "      <td>53036500498edf77c3881003</td>\n",
       "    </tr>\n",
       "    <tr>\n",
       "      <th>11</th>\n",
       "      <td>Vegan and Vegetarian Cuisine</td>\n",
       "      <td>Vegetarian / Vegan Restaurant</td>\n",
       "      <td>NaN</td>\n",
       "      <td>51.473682</td>\n",
       "      <td>-0.111111</td>\n",
       "      <td>[{'label': 'display', 'lat': 51.47368215178113...</td>\n",
       "      <td>3916</td>\n",
       "      <td>NaN</td>\n",
       "      <td>GB</td>\n",
       "      <td>NaN</td>\n",
       "      <td>NaN</td>\n",
       "      <td>United Kingdom</td>\n",
       "      <td>[United Kingdom]</td>\n",
       "      <td>NaN</td>\n",
       "      <td>NaN</td>\n",
       "      <td>502686ffe4b0f46cce4f6937</td>\n",
       "    </tr>\n",
       "    <tr>\n",
       "      <th>12</th>\n",
       "      <td>Vegan No Blood No Bones</td>\n",
       "      <td>Vegetarian / Vegan Restaurant</td>\n",
       "      <td>NaN</td>\n",
       "      <td>51.523546</td>\n",
       "      <td>-0.076607</td>\n",
       "      <td>[{'label': 'display', 'lat': 51.523546, 'lng':...</td>\n",
       "      <td>3970</td>\n",
       "      <td>E1 6GY</td>\n",
       "      <td>GB</td>\n",
       "      <td>London</td>\n",
       "      <td>Greater London</td>\n",
       "      <td>United Kingdom</td>\n",
       "      <td>[London, Greater London, E1 6GY, United Kingdom]</td>\n",
       "      <td>NaN</td>\n",
       "      <td>NaN</td>\n",
       "      <td>59b189c61acf1175646cdc65</td>\n",
       "    </tr>\n",
       "    <tr>\n",
       "      <th>13</th>\n",
       "      <td>Global Fusion Vegan Creole Food</td>\n",
       "      <td>Vegetarian / Vegan Restaurant</td>\n",
       "      <td>Chelsea Barracks Farmers Market</td>\n",
       "      <td>51.490897</td>\n",
       "      <td>-0.160274</td>\n",
       "      <td>[{'label': 'display', 'lat': 51.490897, 'lng':...</td>\n",
       "      <td>2907</td>\n",
       "      <td>NaN</td>\n",
       "      <td>GB</td>\n",
       "      <td>London</td>\n",
       "      <td>Greater London</td>\n",
       "      <td>United Kingdom</td>\n",
       "      <td>[Chelsea Barracks Farmers Market (Saturday Onl...</td>\n",
       "      <td>NaN</td>\n",
       "      <td>Saturday Only</td>\n",
       "      <td>4f76e38de4b0c8b497821044</td>\n",
       "    </tr>\n",
       "    <tr>\n",
       "      <th>14</th>\n",
       "      <td>veg vegan</td>\n",
       "      <td>Vegetarian / Vegan Restaurant</td>\n",
       "      <td>337 euston rd</td>\n",
       "      <td>51.540951</td>\n",
       "      <td>-0.141377</td>\n",
       "      <td>[{'label': 'display', 'lat': 51.54095087051195...</td>\n",
       "      <td>3862</td>\n",
       "      <td>Nw1 3ad</td>\n",
       "      <td>GB</td>\n",
       "      <td>Camden Town</td>\n",
       "      <td>Greater London</td>\n",
       "      <td>United Kingdom</td>\n",
       "      <td>[337 euston rd, Camden Town, Greater London, N...</td>\n",
       "      <td>NaN</td>\n",
       "      <td>NaN</td>\n",
       "      <td>4b992c74f964a520ed6635e3</td>\n",
       "    </tr>\n",
       "    <tr>\n",
       "      <th>15</th>\n",
       "      <td>London Vegetarian and Vegan  School</td>\n",
       "      <td>School</td>\n",
       "      <td>217 Long Lane</td>\n",
       "      <td>51.498461</td>\n",
       "      <td>-0.083773</td>\n",
       "      <td>[{'label': 'display', 'lat': 51.49846117038613...</td>\n",
       "      <td>3196</td>\n",
       "      <td>SE1 4PA</td>\n",
       "      <td>GB</td>\n",
       "      <td>London</td>\n",
       "      <td>Greater London</td>\n",
       "      <td>United Kingdom</td>\n",
       "      <td>[217 Long Lane (Unit 6 Dun dee Ct.), London, G...</td>\n",
       "      <td>NaN</td>\n",
       "      <td>Unit 6 Dun dee Ct.</td>\n",
       "      <td>57b97dfc498e955a180e90e2</td>\n",
       "    </tr>\n",
       "    <tr>\n",
       "      <th>16</th>\n",
       "      <td>London Vegetarian and Vegan School</td>\n",
       "      <td>Building</td>\n",
       "      <td>NaN</td>\n",
       "      <td>51.498638</td>\n",
       "      <td>-0.083737</td>\n",
       "      <td>[{'label': 'display', 'lat': 51.498638, 'lng':...</td>\n",
       "      <td>3192</td>\n",
       "      <td>NaN</td>\n",
       "      <td>GB</td>\n",
       "      <td>London</td>\n",
       "      <td>Greater London</td>\n",
       "      <td>United Kingdom</td>\n",
       "      <td>[London, Greater London, United Kingdom]</td>\n",
       "      <td>NaN</td>\n",
       "      <td>NaN</td>\n",
       "      <td>57b9ad1a498ec3e4b51e80b1</td>\n",
       "    </tr>\n",
       "    <tr>\n",
       "      <th>17</th>\n",
       "      <td>Pipoca Vegan</td>\n",
       "      <td>Vegetarian / Vegan Restaurant</td>\n",
       "      <td>224 Brixton Rd</td>\n",
       "      <td>51.472065</td>\n",
       "      <td>-0.112784</td>\n",
       "      <td>[{'label': 'display', 'lat': 51.472065, 'lng':...</td>\n",
       "      <td>4057</td>\n",
       "      <td>SW9</td>\n",
       "      <td>GB</td>\n",
       "      <td>London</td>\n",
       "      <td>Greater London</td>\n",
       "      <td>United Kingdom</td>\n",
       "      <td>[224 Brixton Rd, London, Greater London, SW9, ...</td>\n",
       "      <td>NaN</td>\n",
       "      <td>NaN</td>\n",
       "      <td>5b77fd3095a722002b2802d5</td>\n",
       "    </tr>\n",
       "    <tr>\n",
       "      <th>18</th>\n",
       "      <td>Vegan Yes</td>\n",
       "      <td>Vegetarian / Vegan Restaurant</td>\n",
       "      <td>22 Seven Sisters Rd, Unit 6</td>\n",
       "      <td>51.558007</td>\n",
       "      <td>-0.118053</td>\n",
       "      <td>[{'label': 'display', 'lat': 51.558007, 'lng':...</td>\n",
       "      <td>5681</td>\n",
       "      <td>N7 6AG</td>\n",
       "      <td>GB</td>\n",
       "      <td>London</td>\n",
       "      <td>Greater London</td>\n",
       "      <td>United Kingdom</td>\n",
       "      <td>[22 Seven Sisters Rd, Unit 6, London, Greater ...</td>\n",
       "      <td>NaN</td>\n",
       "      <td>NaN</td>\n",
       "      <td>59739799db1d817cc84616b0</td>\n",
       "    </tr>\n",
       "    <tr>\n",
       "      <th>19</th>\n",
       "      <td>Vegan Jesus</td>\n",
       "      <td>Café</td>\n",
       "      <td>The yard</td>\n",
       "      <td>51.469730</td>\n",
       "      <td>-0.066555</td>\n",
       "      <td>[{'label': 'display', 'lat': 51.46973, 'lng': ...</td>\n",
       "      <td>5953</td>\n",
       "      <td>SE15 4UJ</td>\n",
       "      <td>GB</td>\n",
       "      <td>London</td>\n",
       "      <td>Greater London</td>\n",
       "      <td>United Kingdom</td>\n",
       "      <td>[The yard, London, Greater London, SE15 4UJ, U...</td>\n",
       "      <td>NaN</td>\n",
       "      <td>NaN</td>\n",
       "      <td>59bced6f7dc9e174b5311266</td>\n",
       "    </tr>\n",
       "    <tr>\n",
       "      <th>20</th>\n",
       "      <td>Vegan Tea Room</td>\n",
       "      <td>Tea Room</td>\n",
       "      <td>56 Stoke Newington High St</td>\n",
       "      <td>51.552141</td>\n",
       "      <td>-0.076193</td>\n",
       "      <td>[{'label': 'display', 'lat': 51.55214087733508...</td>\n",
       "      <td>6131</td>\n",
       "      <td>N16</td>\n",
       "      <td>GB</td>\n",
       "      <td>Hackney</td>\n",
       "      <td>Greater London</td>\n",
       "      <td>United Kingdom</td>\n",
       "      <td>[56 Stoke Newington High St, Hackney, Greater ...</td>\n",
       "      <td>NaN</td>\n",
       "      <td>NaN</td>\n",
       "      <td>510e657ee4b03bf838e88434</td>\n",
       "    </tr>\n",
       "    <tr>\n",
       "      <th>21</th>\n",
       "      <td>Shakey Shakey Vegan</td>\n",
       "      <td>Vegetarian / Vegan Restaurant</td>\n",
       "      <td>NaN</td>\n",
       "      <td>51.521777</td>\n",
       "      <td>-0.071564</td>\n",
       "      <td>[{'label': 'display', 'lat': 51.521777, 'lng':...</td>\n",
       "      <td>4205</td>\n",
       "      <td>E1 6RU</td>\n",
       "      <td>GB</td>\n",
       "      <td>London</td>\n",
       "      <td>Greater London</td>\n",
       "      <td>United Kingdom</td>\n",
       "      <td>[London, Greater London, E1 6RU, United Kingdom]</td>\n",
       "      <td>NaN</td>\n",
       "      <td>NaN</td>\n",
       "      <td>5ae85097f870fd002c776e15</td>\n",
       "    </tr>\n",
       "    <tr>\n",
       "      <th>22</th>\n",
       "      <td>Jakes Vegan Steaks</td>\n",
       "      <td>Vegetarian / Vegan Restaurant</td>\n",
       "      <td>NaN</td>\n",
       "      <td>51.521821</td>\n",
       "      <td>-0.071393</td>\n",
       "      <td>[{'label': 'display', 'lat': 51.521821, 'lng':...</td>\n",
       "      <td>4218</td>\n",
       "      <td>E1 6RU</td>\n",
       "      <td>GB</td>\n",
       "      <td>London</td>\n",
       "      <td>Greater London</td>\n",
       "      <td>United Kingdom</td>\n",
       "      <td>[London, Greater London, E1 6RU, United Kingdom]</td>\n",
       "      <td>NaN</td>\n",
       "      <td>NaN</td>\n",
       "      <td>5a9c0454356b49667bec2e0a</td>\n",
       "    </tr>\n",
       "    <tr>\n",
       "      <th>23</th>\n",
       "      <td>Vegan Sweet Tooth London</td>\n",
       "      <td>Food Truck</td>\n",
       "      <td>60 Chatsworth Rd</td>\n",
       "      <td>51.549477</td>\n",
       "      <td>-0.039892</td>\n",
       "      <td>[{'label': 'display', 'lat': 51.54947710719424...</td>\n",
       "      <td>7678</td>\n",
       "      <td>E5 0LH</td>\n",
       "      <td>GB</td>\n",
       "      <td>London</td>\n",
       "      <td>Greater London</td>\n",
       "      <td>United Kingdom</td>\n",
       "      <td>[60 Chatsworth Rd, London, Greater London, E5 ...</td>\n",
       "      <td>NaN</td>\n",
       "      <td>NaN</td>\n",
       "      <td>5435cc13498e3f9f848d52ae</td>\n",
       "    </tr>\n",
       "    <tr>\n",
       "      <th>24</th>\n",
       "      <td>Vida Vegan Bakery</td>\n",
       "      <td>Bakery</td>\n",
       "      <td>139 Brick Lane</td>\n",
       "      <td>51.523909</td>\n",
       "      <td>-0.071618</td>\n",
       "      <td>[{'label': 'display', 'lat': 51.523909, 'lng':...</td>\n",
       "      <td>4298</td>\n",
       "      <td>E1 6SB</td>\n",
       "      <td>GB</td>\n",
       "      <td>London</td>\n",
       "      <td>Greater London</td>\n",
       "      <td>United Kingdom</td>\n",
       "      <td>[139 Brick Lane, London, Greater London, E1 6S...</td>\n",
       "      <td>NaN</td>\n",
       "      <td>NaN</td>\n",
       "      <td>5b214b9779f6c7002c292e6b</td>\n",
       "    </tr>\n",
       "    <tr>\n",
       "      <th>25</th>\n",
       "      <td>Vegan Express</td>\n",
       "      <td>Vegetarian / Vegan Restaurant</td>\n",
       "      <td>3a Mitcham Lane</td>\n",
       "      <td>51.428704</td>\n",
       "      <td>-0.131605</td>\n",
       "      <td>[{'label': 'display', 'lat': 51.428704, 'lng':...</td>\n",
       "      <td>8755</td>\n",
       "      <td>SW16 6LG</td>\n",
       "      <td>GB</td>\n",
       "      <td>London</td>\n",
       "      <td>Greater London</td>\n",
       "      <td>United Kingdom</td>\n",
       "      <td>[3a Mitcham Lane, London, Greater London, SW16...</td>\n",
       "      <td>NaN</td>\n",
       "      <td>NaN</td>\n",
       "      <td>5c9bd66e3b8307002c7060e5</td>\n",
       "    </tr>\n",
       "    <tr>\n",
       "      <th>26</th>\n",
       "      <td>Vegan Express</td>\n",
       "      <td>Vegetarian / Vegan Restaurant</td>\n",
       "      <td>913 Garrett Lane</td>\n",
       "      <td>51.431372</td>\n",
       "      <td>-0.176031</td>\n",
       "      <td>[{'label': 'display', 'lat': 51.431372, 'lng':...</td>\n",
       "      <td>9096</td>\n",
       "      <td>SW17 0LT</td>\n",
       "      <td>GB</td>\n",
       "      <td>London</td>\n",
       "      <td>Greater London</td>\n",
       "      <td>United Kingdom</td>\n",
       "      <td>[913 Garrett Lane, London, Greater London, SW1...</td>\n",
       "      <td>NaN</td>\n",
       "      <td>NaN</td>\n",
       "      <td>582dace73731812e47f81fb0</td>\n",
       "    </tr>\n",
       "    <tr>\n",
       "      <th>27</th>\n",
       "      <td>Essential Vegan</td>\n",
       "      <td>Vegetarian / Vegan Restaurant</td>\n",
       "      <td>6 Calvert Avenue</td>\n",
       "      <td>51.526287</td>\n",
       "      <td>-0.077451</td>\n",
       "      <td>[{'label': 'display', 'lat': 51.526287, 'lng':...</td>\n",
       "      <td>4067</td>\n",
       "      <td>E2 7JP</td>\n",
       "      <td>GB</td>\n",
       "      <td>London</td>\n",
       "      <td>Greater London</td>\n",
       "      <td>United Kingdom</td>\n",
       "      <td>[6 Calvert Avenue, London, Greater London, E2 ...</td>\n",
       "      <td>Shoreditch</td>\n",
       "      <td>NaN</td>\n",
       "      <td>557583c1498e61f5350ee6b9</td>\n",
       "    </tr>\n",
       "    <tr>\n",
       "      <th>28</th>\n",
       "      <td>Keren View Vegan Restaurant</td>\n",
       "      <td>Vegetarian / Vegan Restaurant</td>\n",
       "      <td>201 Holloway Road</td>\n",
       "      <td>51.550766</td>\n",
       "      <td>-0.109939</td>\n",
       "      <td>[{'label': 'display', 'lat': 51.550766, 'lng':...</td>\n",
       "      <td>4989</td>\n",
       "      <td>N7 8DJ</td>\n",
       "      <td>GB</td>\n",
       "      <td>London</td>\n",
       "      <td>Greater London</td>\n",
       "      <td>United Kingdom</td>\n",
       "      <td>[201 Holloway Road (Liverpool Road), London, G...</td>\n",
       "      <td>Islington</td>\n",
       "      <td>Liverpool Road</td>\n",
       "      <td>5b48f13588a48b0024f45209</td>\n",
       "    </tr>\n",
       "    <tr>\n",
       "      <th>29</th>\n",
       "      <td>Rudy's Dirty Vegan Diner</td>\n",
       "      <td>Vegetarian / Vegan Restaurant</td>\n",
       "      <td>NaN</td>\n",
       "      <td>51.542488</td>\n",
       "      <td>-0.148512</td>\n",
       "      <td>[{'label': 'display', 'lat': 51.54248830466316...</td>\n",
       "      <td>4172</td>\n",
       "      <td>NW1 8AH</td>\n",
       "      <td>GB</td>\n",
       "      <td>London</td>\n",
       "      <td>Greater London</td>\n",
       "      <td>United Kingdom</td>\n",
       "      <td>[London, Greater London, NW1 8AH, United Kingdom]</td>\n",
       "      <td>Primrose Hill</td>\n",
       "      <td>NaN</td>\n",
       "      <td>5ac60dc760d11b5457302b4a</td>\n",
       "    </tr>\n",
       "  </tbody>\n",
       "</table>\n",
       "</div>"
      ],
      "text/plain": [
       "                                   name                     categories  \\\n",
       "0                             Vegan Yes  Vegetarian / Vegan Restaurant   \n",
       "1             Vegan Burgers by Mooshies  Vegetarian / Vegan Restaurant   \n",
       "2                     Vegan Sweet Tooth                     Food Truck   \n",
       "3                     Soho Vegan Market  Vegetarian / Vegan Restaurant   \n",
       "4                      222 Veggie Vegan  Vegetarian / Vegan Restaurant   \n",
       "5         Korean BBQ & Vegan Restaurant              Korean Restaurant   \n",
       "6             Vegan Crosstown Doughnuts                     Donut Shop   \n",
       "7                           Astro Vegan                     Food Stand   \n",
       "8                   Vegan Nights London  Vegetarian / Vegan Restaurant   \n",
       "9                               Y Vegan  Vegetarian / Vegan Restaurant   \n",
       "10               Vegan Veggie Love Cafe  Vegetarian / Vegan Restaurant   \n",
       "11         Vegan and Vegetarian Cuisine  Vegetarian / Vegan Restaurant   \n",
       "12              Vegan No Blood No Bones  Vegetarian / Vegan Restaurant   \n",
       "13      Global Fusion Vegan Creole Food  Vegetarian / Vegan Restaurant   \n",
       "14                            veg vegan  Vegetarian / Vegan Restaurant   \n",
       "15  London Vegetarian and Vegan  School                         School   \n",
       "16   London Vegetarian and Vegan School                       Building   \n",
       "17                         Pipoca Vegan  Vegetarian / Vegan Restaurant   \n",
       "18                            Vegan Yes  Vegetarian / Vegan Restaurant   \n",
       "19                          Vegan Jesus                           Café   \n",
       "20                       Vegan Tea Room                       Tea Room   \n",
       "21                  Shakey Shakey Vegan  Vegetarian / Vegan Restaurant   \n",
       "22                   Jakes Vegan Steaks  Vegetarian / Vegan Restaurant   \n",
       "23             Vegan Sweet Tooth London                     Food Truck   \n",
       "24                    Vida Vegan Bakery                         Bakery   \n",
       "25                        Vegan Express  Vegetarian / Vegan Restaurant   \n",
       "26                        Vegan Express  Vegetarian / Vegan Restaurant   \n",
       "27                      Essential Vegan  Vegetarian / Vegan Restaurant   \n",
       "28          Keren View Vegan Restaurant  Vegetarian / Vegan Restaurant   \n",
       "29             Rudy's Dirty Vegan Diner  Vegetarian / Vegan Restaurant   \n",
       "\n",
       "                            address        lat       lng  \\\n",
       "0                       64 Brick Ln  51.518734 -0.071483   \n",
       "1                      104 Brick Ln  51.519731 -0.071783   \n",
       "2                               NaN  51.520467 -0.072473   \n",
       "3                     Rupert Street  51.512285 -0.133766   \n",
       "4                  222 North End Rd  51.486076 -0.202802   \n",
       "5                   5 Mile End Road  51.519983 -0.056017   \n",
       "6                     5-6 Picton Pl  51.515354 -0.151135   \n",
       "7                               NaN  51.519875 -0.109297   \n",
       "8                               NaN  51.521603 -0.071401   \n",
       "9                     Tabard Street  51.501471 -0.092695   \n",
       "10                29 Corsham Street  51.527583 -0.086871   \n",
       "11                              NaN  51.473682 -0.111111   \n",
       "12                              NaN  51.523546 -0.076607   \n",
       "13  Chelsea Barracks Farmers Market  51.490897 -0.160274   \n",
       "14                    337 euston rd  51.540951 -0.141377   \n",
       "15                    217 Long Lane  51.498461 -0.083773   \n",
       "16                              NaN  51.498638 -0.083737   \n",
       "17                   224 Brixton Rd  51.472065 -0.112784   \n",
       "18      22 Seven Sisters Rd, Unit 6  51.558007 -0.118053   \n",
       "19                         The yard  51.469730 -0.066555   \n",
       "20       56 Stoke Newington High St  51.552141 -0.076193   \n",
       "21                              NaN  51.521777 -0.071564   \n",
       "22                              NaN  51.521821 -0.071393   \n",
       "23                 60 Chatsworth Rd  51.549477 -0.039892   \n",
       "24                   139 Brick Lane  51.523909 -0.071618   \n",
       "25                  3a Mitcham Lane  51.428704 -0.131605   \n",
       "26                 913 Garrett Lane  51.431372 -0.176031   \n",
       "27                 6 Calvert Avenue  51.526287 -0.077451   \n",
       "28                201 Holloway Road  51.550766 -0.109939   \n",
       "29                              NaN  51.542488 -0.148512   \n",
       "\n",
       "                                       labeledLatLngs  distance postalCode  \\\n",
       "0   [{'label': 'display', 'lat': 51.518734, 'lng':...      4093     E1 6QL   \n",
       "1   [{'label': 'display', 'lat': 51.51973095696915...      4109     E1 6RL   \n",
       "2   [{'label': 'display', 'lat': 51.52046677379518...      4092        NaN   \n",
       "3   [{'label': 'display', 'lat': 51.512285, 'lng':...       696    W1D 7PP   \n",
       "4   [{'label': 'display', 'lat': 51.48607614693036...      5720    W14 9NU   \n",
       "5   [{'label': 'display', 'lat': 51.519983, 'lng':...      5158     E1 4TP   \n",
       "6   [{'label': 'display', 'lat': 51.51535387690779...      1856    W1U 1BW   \n",
       "7   [{'label': 'display', 'lat': 51.519875, 'lng':...      1889      E C1N   \n",
       "8   [{'label': 'display', 'lat': 51.521603, 'lng':...      4208         E1   \n",
       "9   [{'label': 'display', 'lat': 51.501471, 'lng':...      2507    SE1 4JU   \n",
       "10  [{'label': 'display', 'lat': 51.52758268212619...      3614     N1 6DP   \n",
       "11  [{'label': 'display', 'lat': 51.47368215178113...      3916        NaN   \n",
       "12  [{'label': 'display', 'lat': 51.523546, 'lng':...      3970     E1 6GY   \n",
       "13  [{'label': 'display', 'lat': 51.490897, 'lng':...      2907        NaN   \n",
       "14  [{'label': 'display', 'lat': 51.54095087051195...      3862    Nw1 3ad   \n",
       "15  [{'label': 'display', 'lat': 51.49846117038613...      3196    SE1 4PA   \n",
       "16  [{'label': 'display', 'lat': 51.498638, 'lng':...      3192        NaN   \n",
       "17  [{'label': 'display', 'lat': 51.472065, 'lng':...      4057        SW9   \n",
       "18  [{'label': 'display', 'lat': 51.558007, 'lng':...      5681     N7 6AG   \n",
       "19  [{'label': 'display', 'lat': 51.46973, 'lng': ...      5953   SE15 4UJ   \n",
       "20  [{'label': 'display', 'lat': 51.55214087733508...      6131        N16   \n",
       "21  [{'label': 'display', 'lat': 51.521777, 'lng':...      4205     E1 6RU   \n",
       "22  [{'label': 'display', 'lat': 51.521821, 'lng':...      4218     E1 6RU   \n",
       "23  [{'label': 'display', 'lat': 51.54947710719424...      7678     E5 0LH   \n",
       "24  [{'label': 'display', 'lat': 51.523909, 'lng':...      4298     E1 6SB   \n",
       "25  [{'label': 'display', 'lat': 51.428704, 'lng':...      8755   SW16 6LG   \n",
       "26  [{'label': 'display', 'lat': 51.431372, 'lng':...      9096   SW17 0LT   \n",
       "27  [{'label': 'display', 'lat': 51.526287, 'lng':...      4067     E2 7JP   \n",
       "28  [{'label': 'display', 'lat': 51.550766, 'lng':...      4989     N7 8DJ   \n",
       "29  [{'label': 'display', 'lat': 51.54248830466316...      4172    NW1 8AH   \n",
       "\n",
       "    cc         city           state         country  \\\n",
       "0   GB       London  Greater London  United Kingdom   \n",
       "1   GB       London  Greater London  United Kingdom   \n",
       "2   GB          NaN             NaN  United Kingdom   \n",
       "3   GB       London  Greater London  United Kingdom   \n",
       "4   GB  Hammersmith  Greater London  United Kingdom   \n",
       "5   GB       London  Greater London  United Kingdom   \n",
       "6   GB       London  Greater London  United Kingdom   \n",
       "7   GB       London  Greater London  United Kingdom   \n",
       "8   GB       London  Greater London  United Kingdom   \n",
       "9   GB       London  Greater London  United Kingdom   \n",
       "10  GB       London  Greater London  United Kingdom   \n",
       "11  GB          NaN             NaN  United Kingdom   \n",
       "12  GB       London  Greater London  United Kingdom   \n",
       "13  GB       London  Greater London  United Kingdom   \n",
       "14  GB  Camden Town  Greater London  United Kingdom   \n",
       "15  GB       London  Greater London  United Kingdom   \n",
       "16  GB       London  Greater London  United Kingdom   \n",
       "17  GB       London  Greater London  United Kingdom   \n",
       "18  GB       London  Greater London  United Kingdom   \n",
       "19  GB       London  Greater London  United Kingdom   \n",
       "20  GB      Hackney  Greater London  United Kingdom   \n",
       "21  GB       London  Greater London  United Kingdom   \n",
       "22  GB       London  Greater London  United Kingdom   \n",
       "23  GB       London  Greater London  United Kingdom   \n",
       "24  GB       London  Greater London  United Kingdom   \n",
       "25  GB       London  Greater London  United Kingdom   \n",
       "26  GB       London  Greater London  United Kingdom   \n",
       "27  GB       London  Greater London  United Kingdom   \n",
       "28  GB       London  Greater London  United Kingdom   \n",
       "29  GB       London  Greater London  United Kingdom   \n",
       "\n",
       "                                     formattedAddress  \\\n",
       "0   [64 Brick Ln, London, Greater London, E1 6QL, ...   \n",
       "1   [104 Brick Ln, London, Greater London, E1 6RL,...   \n",
       "2                                    [United Kingdom]   \n",
       "3   [Rupert Street, London, Greater London, W1D 7P...   \n",
       "4   [222 North End Rd, Hammersmith, Greater London...   \n",
       "5   [5 Mile End Road, London, Greater London, E1 4...   \n",
       "6   [5-6 Picton Pl, London, Greater London, W1U 1B...   \n",
       "7     [London, Greater London, E C1N, United Kingdom]   \n",
       "8        [London, Greater London, E1, United Kingdom]   \n",
       "9   [Tabard Street, London, Greater London, SE1 4J...   \n",
       "10  [29 Corsham Street, London, Greater London, N1...   \n",
       "11                                   [United Kingdom]   \n",
       "12   [London, Greater London, E1 6GY, United Kingdom]   \n",
       "13  [Chelsea Barracks Farmers Market (Saturday Onl...   \n",
       "14  [337 euston rd, Camden Town, Greater London, N...   \n",
       "15  [217 Long Lane (Unit 6 Dun dee Ct.), London, G...   \n",
       "16           [London, Greater London, United Kingdom]   \n",
       "17  [224 Brixton Rd, London, Greater London, SW9, ...   \n",
       "18  [22 Seven Sisters Rd, Unit 6, London, Greater ...   \n",
       "19  [The yard, London, Greater London, SE15 4UJ, U...   \n",
       "20  [56 Stoke Newington High St, Hackney, Greater ...   \n",
       "21   [London, Greater London, E1 6RU, United Kingdom]   \n",
       "22   [London, Greater London, E1 6RU, United Kingdom]   \n",
       "23  [60 Chatsworth Rd, London, Greater London, E5 ...   \n",
       "24  [139 Brick Lane, London, Greater London, E1 6S...   \n",
       "25  [3a Mitcham Lane, London, Greater London, SW16...   \n",
       "26  [913 Garrett Lane, London, Greater London, SW1...   \n",
       "27  [6 Calvert Avenue, London, Greater London, E2 ...   \n",
       "28  [201 Holloway Road (Liverpool Road), London, G...   \n",
       "29  [London, Greater London, NW1 8AH, United Kingdom]   \n",
       "\n",
       "                   neighborhood         crossStreet                        id  \n",
       "0                           NaN                 NaN  59ada1f8febf314589c6f8d5  \n",
       "1                           NaN                 NaN  5848791af68d8d38cfcf6446  \n",
       "2                           NaN                 NaN  5437b093498e11e3771b4a2c  \n",
       "3                           NaN                 NaN  5ad1edfe3ba7671c3ec4b6f8  \n",
       "4                           NaN                 NaN  4bd2ccb39854d13aa352fc4d  \n",
       "5                           NaN                 NaN  5c2b803618d43b002ce1aae0  \n",
       "6                           NaN                 NaN  5aaf8519e2d4aa7dd23b9325  \n",
       "7                           NaN                 NaN  596364a48194fc32008e3118  \n",
       "8   Spitalfields and Banglatown                 NaN  59cd593f91eaca3d8eaa4f52  \n",
       "9                           NaN                 NaN  5ad875bf4c954c4c42939667  \n",
       "10                          NaN                 NaN  53036500498edf77c3881003  \n",
       "11                          NaN                 NaN  502686ffe4b0f46cce4f6937  \n",
       "12                          NaN                 NaN  59b189c61acf1175646cdc65  \n",
       "13                          NaN       Saturday Only  4f76e38de4b0c8b497821044  \n",
       "14                          NaN                 NaN  4b992c74f964a520ed6635e3  \n",
       "15                          NaN  Unit 6 Dun dee Ct.  57b97dfc498e955a180e90e2  \n",
       "16                          NaN                 NaN  57b9ad1a498ec3e4b51e80b1  \n",
       "17                          NaN                 NaN  5b77fd3095a722002b2802d5  \n",
       "18                          NaN                 NaN  59739799db1d817cc84616b0  \n",
       "19                          NaN                 NaN  59bced6f7dc9e174b5311266  \n",
       "20                          NaN                 NaN  510e657ee4b03bf838e88434  \n",
       "21                          NaN                 NaN  5ae85097f870fd002c776e15  \n",
       "22                          NaN                 NaN  5a9c0454356b49667bec2e0a  \n",
       "23                          NaN                 NaN  5435cc13498e3f9f848d52ae  \n",
       "24                          NaN                 NaN  5b214b9779f6c7002c292e6b  \n",
       "25                          NaN                 NaN  5c9bd66e3b8307002c7060e5  \n",
       "26                          NaN                 NaN  582dace73731812e47f81fb0  \n",
       "27                   Shoreditch                 NaN  557583c1498e61f5350ee6b9  \n",
       "28                    Islington      Liverpool Road  5b48f13588a48b0024f45209  \n",
       "29                Primrose Hill                 NaN  5ac60dc760d11b5457302b4a  "
      ]
     },
     "execution_count": 89,
     "metadata": {},
     "output_type": "execute_result"
    }
   ],
   "source": [
    "# keep only columns that include venue name, and anything that is associated with location\n",
    "filtered_columns = ['name', 'categories'] + [col for col in dataframe.columns if col.startswith('location.')] + ['id']\n",
    "dataframe_filtered = dataframe.loc[:, filtered_columns]\n",
    "\n",
    "# function that extracts the category of the venue\n",
    "def get_category_type(row):\n",
    "    try:\n",
    "        categories_list = row['categories']\n",
    "    except:\n",
    "        categories_list = row['venue.categories']\n",
    "        \n",
    "    if len(categories_list) == 0:\n",
    "        return None\n",
    "    else:\n",
    "        return categories_list[0]['name']\n",
    "\n",
    "# filter the category for each row\n",
    "dataframe_filtered['categories'] = dataframe_filtered.apply(get_category_type, axis=1)\n",
    "\n",
    "# clean column names by keeping only last term\n",
    "dataframe_filtered.columns = [column.split('.')[-1] for column in dataframe_filtered.columns]\n",
    "\n",
    "dataframe_filtered"
   ]
  },
  {
   "cell_type": "markdown",
   "metadata": {},
   "source": [
    "#### Data Visualization"
   ]
  },
  {
   "cell_type": "code",
   "execution_count": 90,
   "metadata": {},
   "outputs": [
    {
     "data": {
      "text/html": [
       "<div style=\"width:100%;\"><div style=\"position:relative;width:100%;height:0;padding-bottom:60%;\"><span style=\"color:#565656\">Make this Notebook Trusted to load map: File -> Trust Notebook</span><iframe src=\"about:blank\" style=\"position:absolute;width:100%;height:100%;left:0;top:0;border:none !important;\" data-html=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 onload=\"this.contentDocument.open();this.contentDocument.write(atob(this.getAttribute('data-html')));this.contentDocument.close();\" allowfullscreen webkitallowfullscreen mozallowfullscreen></iframe></div></div>"
      ],
      "text/plain": [
       "<folium.folium.Map at 0x7fd0bc6c2be0>"
      ]
     },
     "execution_count": 90,
     "metadata": {},
     "output_type": "execute_result"
    }
   ],
   "source": [
    "venues_map = folium.Map(location=[latitude, longitude], zoom_start=13) # generate map centred around London\n",
    "\n",
    "\n",
    "# add the Vegan restaurants as green circle markers\n",
    "for lat, lng, label in zip(dataframe_filtered.lat, dataframe_filtered.lng, dataframe_filtered.categories):\n",
    "    folium.features.CircleMarker(\n",
    "        [lat, lng],\n",
    "        radius=5,\n",
    "        color='green',\n",
    "        popup=label,\n",
    "        fill = True,\n",
    "        fill_color='green',\n",
    "        fill_opacity=0.6\n",
    "    ).add_to(venues_map)\n",
    "\n",
    "# display map\n",
    "venues_map"
   ]
  },
  {
   "cell_type": "markdown",
   "metadata": {},
   "source": [
    "### Data Observations:"
   ]
  },
  {
   "cell_type": "markdown",
   "metadata": {},
   "source": [
    "##### Foursquare found 29 purely Vegan restaurants in the 30 000 m radius from the center of London. Using simple data mapping we can already see some trends within a Geo-location of these establishments. Next step in the statistical analysis I will explore the density of these establishments on the London map. their distance from the center of London. I will also try to create the list of 5 best rated vegan restaurants in London."
   ]
  },
  {
   "cell_type": "markdown",
   "metadata": {},
   "source": [
    "#### Saving created data frames:"
   ]
  },
  {
   "cell_type": "code",
   "execution_count": 91,
   "metadata": {},
   "outputs": [],
   "source": [
    "df_LondL.to_csv('London_postcodes_geo.csv')"
   ]
  },
  {
   "cell_type": "code",
   "execution_count": 93,
   "metadata": {},
   "outputs": [],
   "source": [
    "df_London.to_csv('London_postcodes.csv')"
   ]
  },
  {
   "cell_type": "code",
   "execution_count": 94,
   "metadata": {},
   "outputs": [],
   "source": [
    "dataframe_filtered.to_csv('London_veg_restaurants.csv')"
   ]
  }
 ],
 "metadata": {
  "kernelspec": {
   "display_name": "Python",
   "language": "python",
   "name": "conda-env-python-py"
  },
  "language_info": {
   "codemirror_mode": {
    "name": "ipython",
    "version": 3
   },
   "file_extension": ".py",
   "mimetype": "text/x-python",
   "name": "python",
   "nbconvert_exporter": "python",
   "pygments_lexer": "ipython3",
   "version": "3.6.10"
  }
 },
 "nbformat": 4,
 "nbformat_minor": 4
}
