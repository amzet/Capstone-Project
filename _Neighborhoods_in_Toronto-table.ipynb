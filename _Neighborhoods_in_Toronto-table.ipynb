{
 "cells": [
  {
   "cell_type": "markdown",
   "metadata": {},
   "source": [
    "### Segmenting and Clustering Neighborhoods in Toronto - IMB coursera course week 3"
   ]
  },
  {
   "cell_type": "code",
   "execution_count": 1,
   "metadata": {},
   "outputs": [
    {
     "name": "stdout",
     "output_type": "stream",
     "text": [
      "Collecting beautifulsoup4\n",
      "\u001b[?25l  Downloading https://files.pythonhosted.org/packages/66/25/ff030e2437265616a1e9b25ccc864e0371a0bc3adb7c5a404fd661c6f4f6/beautifulsoup4-4.9.1-py3-none-any.whl (115kB)\n",
      "\u001b[K     |████████████████████████████████| 122kB 10.8MB/s eta 0:00:01\n",
      "\u001b[?25hCollecting soupsieve>1.2 (from beautifulsoup4)\n",
      "  Downloading https://files.pythonhosted.org/packages/6f/8f/457f4a5390eeae1cc3aeab89deb7724c965be841ffca6cfca9197482e470/soupsieve-2.0.1-py3-none-any.whl\n",
      "Installing collected packages: soupsieve, beautifulsoup4\n",
      "Successfully installed beautifulsoup4-4.9.1 soupsieve-2.0.1\n"
     ]
    }
   ],
   "source": [
    "!pip install beautifulsoup4 #installing most up to date beautifulsoup"
   ]
  },
  {
   "cell_type": "code",
   "execution_count": 2,
   "metadata": {},
   "outputs": [
    {
     "name": "stdout",
     "output_type": "stream",
     "text": [
      "Collecting lxml\n",
      "\u001b[?25l  Downloading https://files.pythonhosted.org/packages/55/6f/c87dffdd88a54dd26a3a9fef1d14b6384a9933c455c54ce3ca7d64a84c88/lxml-4.5.1-cp36-cp36m-manylinux1_x86_64.whl (5.5MB)\n",
      "\u001b[K     |████████████████████████████████| 5.5MB 6.9MB/s eta 0:00:01     |███████████████████████▌        | 4.1MB 6.9MB/s eta 0:00:01\n",
      "\u001b[?25hInstalling collected packages: lxml\n",
      "Successfully installed lxml-4.5.1\n"
     ]
    }
   ],
   "source": [
    "!pip install lxml "
   ]
  },
  {
   "cell_type": "code",
   "execution_count": 3,
   "metadata": {},
   "outputs": [
    {
     "name": "stdout",
     "output_type": "stream",
     "text": [
      "Requirement already satisfied: html5lib in /home/jupyterlab/conda/envs/python/lib/python3.6/site-packages (0.9999999)\n",
      "Requirement already satisfied: six in /home/jupyterlab/conda/envs/python/lib/python3.6/site-packages (from html5lib) (1.15.0)\n"
     ]
    }
   ],
   "source": [
    "!pip install html5lib"
   ]
  },
  {
   "cell_type": "code",
   "execution_count": 4,
   "metadata": {},
   "outputs": [
    {
     "name": "stdout",
     "output_type": "stream",
     "text": [
      "Collecting request\n",
      "  Downloading https://files.pythonhosted.org/packages/f1/27/7cbde262d854aedf217061a97020d66a63163c5c04e0ec02ff98c5d8f44e/request-2019.4.13.tar.gz\n",
      "Collecting get (from request)\n",
      "  Downloading https://files.pythonhosted.org/packages/3f/ef/bb46f77f7220ac1b7edba0c76d810c89fddb24ddd8c08f337b9b4a618db7/get-2019.4.13.tar.gz\n",
      "Collecting post (from request)\n",
      "  Downloading https://files.pythonhosted.org/packages/0f/05/bd79da5849ea6a92485ed7029ef97b1b75e55c26bc0ed3a7ec769af666f3/post-2019.4.13.tar.gz\n",
      "Requirement already satisfied: setuptools in /home/jupyterlab/conda/envs/python/lib/python3.6/site-packages (from request) (47.1.1.post20200529)\n",
      "Collecting query_string (from get->request)\n",
      "  Downloading https://files.pythonhosted.org/packages/12/3c/412a45daf5bea9b1d06d7de41787ec4168001dfa418db7ec8723356b119f/query-string-2019.4.13.tar.gz\n",
      "Collecting public (from query_string->get->request)\n",
      "  Downloading https://files.pythonhosted.org/packages/54/4d/b40004cc6c07665e48af22cfe1e631f219bf4282e15fa76a5b6364f6885c/public-2019.4.13.tar.gz\n",
      "Building wheels for collected packages: request, get, post, query-string, public\n",
      "  Building wheel for request (setup.py) ... \u001b[?25ldone\n",
      "\u001b[?25h  Stored in directory: /home/jupyterlab/.cache/pip/wheels/30/84/5f/484cfba678967ef58c16fce6890925d5c7172622f20111fbfd\n",
      "  Building wheel for get (setup.py) ... \u001b[?25ldone\n",
      "\u001b[?25h  Stored in directory: /home/jupyterlab/.cache/pip/wheels/c1/e3/c1/d02c8c58538853e4c9b78cadb74f6d5c5c370b48a69a7271aa\n",
      "  Building wheel for post (setup.py) ... \u001b[?25ldone\n",
      "\u001b[?25h  Stored in directory: /home/jupyterlab/.cache/pip/wheels/c3/c3/24/b5c132b537ab380c02d69e6bd4dec1f5db56b5fe19030473d7\n",
      "  Building wheel for query-string (setup.py) ... \u001b[?25ldone\n",
      "\u001b[?25h  Stored in directory: /home/jupyterlab/.cache/pip/wheels/d6/a4/78/01b20a9dc224dcc009fab669f7f27b943b8889c5150bd68d8a\n",
      "  Building wheel for public (setup.py) ... \u001b[?25ldone\n",
      "\u001b[?25h  Stored in directory: /home/jupyterlab/.cache/pip/wheels/23/7c/6e/f5b4e09d6596c8b8802b347e48f149031e2363368048f1347a\n",
      "Successfully built request get post query-string public\n",
      "Installing collected packages: public, query-string, get, post, request\n",
      "Successfully installed get-2019.4.13 post-2019.4.13 public-2019.4.13 query-string-2019.4.13 request-2019.4.13\n"
     ]
    }
   ],
   "source": [
    "!pip install request  #request library"
   ]
  },
  {
   "cell_type": "code",
   "execution_count": 5,
   "metadata": {},
   "outputs": [
    {
     "name": "stdout",
     "output_type": "stream",
     "text": [
      "WARNING: The easy_install command is deprecated and will be removed in a future version.\n",
      "Searching for lxml\n",
      "Best match: lxml 4.5.1\n",
      "Adding lxml 4.5.1 to easy-install.pth file\n",
      "\n",
      "Using /home/jupyterlab/conda/envs/python/lib/python3.6/site-packages\n",
      "Processing dependencies for lxml\n",
      "Finished processing dependencies for lxml\n"
     ]
    }
   ],
   "source": [
    "!easy_install lxml"
   ]
  },
  {
   "cell_type": "code",
   "execution_count": 79,
   "metadata": {},
   "outputs": [],
   "source": [
    "from bs4 import BeautifulSoup\n",
    "import requests\n",
    "import lxml\n",
    "import pandas as pd\n",
    "import numpy as np"
   ]
  },
  {
   "cell_type": "code",
   "execution_count": 32,
   "metadata": {},
   "outputs": [
    {
     "name": "stdout",
     "output_type": "stream",
     "text": [
      "WARNING: The easy_install command is deprecated and will be removed in a future version.\n",
      "Searching for html5lib\n",
      "Best match: html5lib 0.9999999\n",
      "Adding html5lib 0.9999999 to easy-install.pth file\n",
      "\n",
      "Using /home/jupyterlab/conda/envs/python/lib/python3.6/site-packages\n",
      "Processing dependencies for html5lib\n",
      "Finished processing dependencies for html5lib\n"
     ]
    }
   ],
   "source": [
    "!easy_install html5lib"
   ]
  },
  {
   "cell_type": "code",
   "execution_count": 152,
   "metadata": {},
   "outputs": [],
   "source": [
    "with open('List of postal codes of Canada_ M-Wikipedia_simple.html') as html_file:\n",
    "    soup = BeautifulSoup(html_file, \"html.parser\") #html.parser worked better than lxml"
   ]
  },
  {
   "cell_type": "code",
   "execution_count": 153,
   "metadata": {},
   "outputs": [],
   "source": [
    "raw_table = soup.find(\"table\", attrs={\"class\": \"wikitable\"})"
   ]
  },
  {
   "cell_type": "code",
   "execution_count": 154,
   "metadata": {},
   "outputs": [],
   "source": [
    "raw_table_data = raw_table.tbody.find_all(\"tr\")"
   ]
  },
  {
   "cell_type": "code",
   "execution_count": 155,
   "metadata": {},
   "outputs": [],
   "source": [
    "raw_table_texts = raw_table.text"
   ]
  },
  {
   "cell_type": "code",
   "execution_count": 156,
   "metadata": {},
   "outputs": [
    {
     "data": {
      "text/plain": [
       "\"\\n\\nPostal Code\\n\\nBorough\\n\\nNeighborhood\\n\\n\\nM1A\\n\\nNot assigned\\n\\nNot assigned\\n\\n\\nM2A\\n\\nNot assigned\\n\\nNot assigned\\n\\n\\nM3A\\n\\nNorth York\\n\\nParkwoods\\n\\n\\nM4A\\n\\nNorth York\\n\\nVictoria Village\\n\\n\\nM5A\\n\\nDowntown Toronto\\n\\nRegent Park, Harbourfront\\n\\n\\nM6A\\n\\nNorth York\\n\\nLawrence Manor, Lawrence Heights\\n\\n\\nM7A\\n\\nDowntown Toronto\\n\\nQueen's Park, Ontario Provincial Government\\n\\n\\nM8A\\n\\nNot assigned\\n\\nNot assigned\\n\\n\\nM9A\\n\\nEtobicoke\\n\\nIslington Avenue, Humber Valley Village\\n\\n\\nM1B\\n\\nScarborough\\n\\nMalvern, Rouge\\n\\n\\nM2B\\n\\nNot assigned\\n\\nNot assigned\\n\\n\\nM3B\\n\\nNorth York\\n\\nDon Mills\\n\\n\\nM4B\\n\\nEast York\\n\\nParkview Hill, Woodbine Gardens\\n\\n\\nM5B\\n\\nDowntown Toronto\\n\\nGarden District, Ryerson\\n\\n\\nM6B\\n\\nNorth York\\n\\nGlencairn\\n\\n\\nM7B\\n\\nNot assigned\\n\\nNot assigned\\n\\n\\nM8B\\n\\nNot assigned\\n\\nNot assigned\\n\\n\\nM9B\\n\\nEtobicoke\\n\\nWest Deane Park, Princess Gardens, Martin Grove, Islington, Cloverdale\\n\\n\\nM1C\\n\\nScarborough\\n\\nRouge Hill, Port Union, Highland Creek\\n\\n\\nM2C\\n\\nNot assigned\\n\\nNot assigned\\n\\n\\nM3C\\n\\nNorth York\\n\\nDon Mills\\n\\n\\nM4C\\n\\nEast York\\n\\nWoodbine Heights\\n\\n\\nM5C\\n\\nDowntown Toronto\\n\\nSt. James Town\\n\\n\\nM6C\\n\\nYork\\n\\nHumewood-Cedarvale\\n\\n\\nM7C\\n\\nNot assigned\\n\\nNot assigned\\n\\n\\nM8C\\n\\nNot assigned\\n\\nNot assigned\\n\\n\\nM9C\\n\\nEtobicoke\\n\\nEringate, Bloordale Gardens, Old Burnhamthorpe, Markland Wood\\n\\n\\nM1E\\n\\nScarborough\\n\\nGuildwood, Morningside, West Hill\\n\\n\\nM2E\\n\\nNot assigned\\n\\nNot assigned\\n\\n\\nM3E\\n\\nNot assigned\\n\\nNot assigned\\n\\n\\nM4E\\n\\nEast Toronto\\n\\nThe Beaches\\n\\n\\nM5E\\n\\nDowntown Toronto\\n\\nBerczy Park\\n\\n\\nM6E\\n\\nYork\\n\\nCaledonia-Fairbanks\\n\\n\\nM7E\\n\\nNot assigned\\n\\nNot assigned\\n\\n\\nM8E\\n\\nNot assigned\\n\\nNot assigned\\n\\n\\nM9E\\n\\nNot assigned\\n\\nNot assigned\\n\\n\\nM1G\\n\\nScarborough\\n\\nWoburn\\n\\n\\nM2G\\n\\nNot assigned\\n\\nNot assigned\\n\\n\\nM3G\\n\\nNot assigned\\n\\nNot assigned\\n\\n\\nM4G\\n\\nEast York\\n\\nLeaside\\n\\n\\nM5G\\n\\nDowntown Toronto\\n\\nCentral Bay Street\\n\\n\\nM6G\\n\\nDowntown Toronto\\n\\nChristie\\n\\n\\nM7G\\n\\nNot assigned\\n\\nNot assigned\\n\\n\\nM8G\\n\\nNot assigned\\n\\nNot assigned\\n\\n\\nM9G\\n\\nNot assigned\\n\\nNot assigned\\n\\n\\nM1H\\n\\nScarborough\\n\\nCedarbrae\\n\\n\\nM2H\\n\\nNorth York\\n\\nHillcrest Village\\n\\n\\nM3H\\n\\nNorth York\\n\\nBathurst Manor, Wilson Heights, Downsview North\\n\\n\\nM4H\\n\\nEast York\\n\\nThorncliffe Park\\n\\n\\nM5H\\n\\nDowntown Toronto\\n\\nRichmond, Adelaide, King\\n\\n\\nM6H\\n\\nWest Toronto\\n\\nDufferin, Dovercourt Village\\n\\n\\nM7H\\n\\nNot assigned\\n\\nNot assigned\\n\\n\\nM8H\\n\\nNot assigned\\n\\nNot assigned\\n\\n\\nM9H\\n\\nNot assigned\\n\\nNot assigned\\n\\n\\nM1J\\n\\nScarborough\\n\\nScarborough Village\\n\\n\\nM2J\\n\\nNorth York\\n\\nFairview, Henry Farm, Oriole\\n\\n\\nM3J\\n\\nNorth York\\n\\nNorthwood Park, York University\\n\\n\\nM4J\\n\\nEast York\\n\\nEast Toronto, Broadview North (Old East York)\\n\\n\\nM5J\\n\\nDowntown Toronto\\n\\nHarbourfront East, Union Station, Toronto Islands\\n\\n\\nM6J\\n\\nWest Toronto\\n\\nLittle Portugal, Trinity\\n\\n\\nM7J\\n\\nNot assigned\\n\\nNot assigned\\n\\n\\nM8J\\n\\nNot assigned\\n\\nNot assigned\\n\\n\\nM9J\\n\\nNot assigned\\n\\nNot assigned\\n\\n\\nM1K\\n\\nScarborough\\n\\nKennedy Park, Ionview, East Birchmount Park\\n\\n\\nM2K\\n\\nNorth York\\n\\nBayview Village\\n\\n\\nM3K\\n\\nNorth York\\n\\nDownsview\\n\\n\\nM4K\\n\\nEast Toronto\\n\\nThe Danforth West, Riverdale\\n\\n\\nM5K\\n\\nDowntown Toronto\\n\\nToronto Dominion Centre, Design Exchange\\n\\n\\nM6K\\n\\nWest Toronto\\n\\nBrockton, Parkdale Village, Exhibition Place\\n\\n\\nM7K\\n\\nNot assigned\\n\\nNot assigned\\n\\n\\nM8K\\n\\nNot assigned\\n\\nNot assigned\\n\\n\\nM9K\\n\\nNot assigned\\n\\nNot assigned\\n\\n\\nM1L\\n\\nScarborough\\n\\nGolden Mile, Clairlea, Oakridge\\n\\n\\nM2L\\n\\nNorth York\\n\\nYork Mills, Silver Hills\\n\\n\\nM3L\\n\\nNorth York\\n\\nDownsview\\n\\n\\nM4L\\n\\nEast Toronto\\n\\nIndia Bazaar, The Beaches West\\n\\n\\nM5L\\n\\nDowntown Toronto\\n\\nCommerce Court, Victoria Hotel\\n\\n\\nM6L\\n\\nNorth York\\n\\nNorth Park, Maple Leaf Park, Upwood Park\\n\\n\\nM7L\\n\\nNot assigned\\n\\nNot assigned\\n\\n\\nM8L\\n\\nNot assigned\\n\\nNot assigned\\n\\n\\nM9L\\n\\nNorth York\\n\\nHumber Summit\\n\\n\\nM1M\\n\\nScarborough\\n\\nCliffside, Cliffcrest, Scarborough Village West\\n\\n\\nM2M\\n\\nNorth York\\n\\nWillowdale, Newtonbrook\\n\\n\\nM3M\\n\\nNorth York\\n\\nDownsview\\n\\n\\nM4M\\n\\nEast Toronto\\n\\nStudio District\\n\\n\\nM5M\\n\\nNorth York\\n\\nBedford Park, Lawrence Manor East\\n\\n\\nM6M\\n\\nYork\\n\\nDel Ray, Mount Dennis, Keelsdale and Silverthorn\\n\\n\\nM7M\\n\\nNot assigned\\n\\nNot assigned\\n\\n\\nM8M\\n\\nNot assigned\\n\\nNot assigned\\n\\n\\nM9M\\n\\nNorth York\\n\\nHumberlea, Emery\\n\\n\\nM1N\\n\\nScarborough\\n\\nBirch Cliff, Cliffside West\\n\\n\\nM2N\\n\\nNorth York\\n\\nWillowdale, Willowdale East\\n\\n\\nM3N\\n\\nNorth York\\n\\nDownsview\\n\\n\\nM4N\\n\\nCentral Toronto\\n\\nLawrence Park\\n\\n\\nM5N\\n\\nCentral Toronto\\n\\nRoselawn\\n\\n\\nM6N\\n\\nYork\\n\\nRunnymede, The Junction North\\n\\n\\nM7N\\n\\nNot assigned\\n\\nNot assigned\\n\\n\\nM8N\\n\\nNot assigned\\n\\nNot assigned\\n\\n\\nM9N\\n\\nYork\\n\\nWeston\\n\\n\\nM1P\\n\\nScarborough\\n\\nDorset Park, Wexford Heights, Scarborough Town Centre\\n\\n\\nM2P\\n\\nNorth York\\n\\nYork Mills West\\n\\n\\nM3P\\n\\nNot assigned\\n\\nNot assigned\\n\\n\\nM4P\\n\\nCentral Toronto\\n\\nDavisville North\\n\\n\\nM5P\\n\\nCentral Toronto\\n\\nForest Hill North & West, Forest Hill Road Park\\n\\n\\nM6P\\n\\nWest Toronto\\n\\nHigh Park, The Junction South\\n\\n\\nM7P\\n\\nNot assigned\\n\\nNot assigned\\n\\n\\nM8P\\n\\nNot assigned\\n\\nNot assigned\\n\\n\\nM9P\\n\\nEtobicoke\\n\\nWestmount\\n\\n\\nM1R\\n\\nScarborough\\n\\nWexford, Maryvale\\n\\n\\nM2R\\n\\nNorth York\\n\\nWillowdale, Willowdale West\\n\\n\\nM3R\\n\\nNot assigned\\n\\nNot assigned\\n\\n\\nM4R\\n\\nCentral Toronto\\n\\nNorth Toronto West,  Lawrence Park\\n\\n\\nM5R\\n\\nCentral Toronto\\n\\nThe Annex, North Midtown, Yorkville\\n\\n\\nM6R\\n\\nWest Toronto\\n\\nParkdale, Roncesvalles\\n\\n\\nM7R\\n\\nMississauga\\n\\nCanada Post Gateway Processing Centre\\n\\n\\nM8R\\n\\nNot assigned\\n\\nNot assigned\\n\\n\\nM9R\\n\\nEtobicoke\\n\\nKingsview Village, St. Phillips, Martin Grove Gardens, Richview Gardens\\n\\n\\nM1S\\n\\nScarborough\\n\\nAgincourt\\n\\n\\nM2S\\n\\nNot assigned\\n\\nNot assigned\\n\\n\\nM3S\\n\\nNot assigned\\n\\nNot assigned\\n\\n\\nM4S\\n\\nCentral Toronto\\n\\nDavisville\\n\\n\\nM5S\\n\\nDowntown Toronto\\n\\nUniversity of Toronto, Harbord\\n\\n\\nM6S\\n\\nWest Toronto\\n\\nRunnymede, Swansea\\n\\n\\nM7S\\n\\nNot assigned\\n\\nNot assigned\\n\\n\\nM8S\\n\\nNot assigned\\n\\nNot assigned\\n\\n\\nM9S\\n\\nNot assigned\\n\\nNot assigned\\n\\n\\nM1T\\n\\nScarborough\\n\\nClarks Corners, Tam O'Shanter, Sullivan\\n\\n\\nM2T\\n\\nNot assigned\\n\\nNot assigned\\n\\n\\nM3T\\n\\nNot assigned\\n\\nNot assigned\\n\\n\\nM4T\\n\\nCentral Toronto\\n\\nMoore Park, Summerhill East\\n\\n\\nM5T\\n\\nDowntown Toronto\\n\\nKensington Market, Chinatown, Grange Park\\n\\n\\nM6T\\n\\nNot assigned\\n\\nNot assigned\\n\\n\\nM7T\\n\\nNot assigned\\n\\nNot assigned\\n\\n\\nM8T\\n\\nNot assigned\\n\\nNot assigned\\n\\n\\nM9T\\n\\nNot assigned\\n\\nNot assigned\\n\\n\\nM1V\\n\\nScarborough\\n\\nMilliken, Agincourt North, Steeles East, L'Amoreaux East\\n\\n\\nM2V\\n\\nNot assigned\\n\\nNot assigned\\n\\n\\nM3V\\n\\nNot assigned\\n\\nNot assigned\\n\\n\\nM4V\\n\\nCentral Toronto\\n\\nSummerhill West, Rathnelly, South Hill, Forest Hill SE, Deer Park\\n\\n\\nM5V\\n\\nDowntown Toronto\\n\\nCN Tower, King and Spadina, Railway Lands, Harbourfront West, Bathurst Quay, South Niagara, Island airport\\n\\n\\nM6V\\n\\nNot assigned\\n\\nNot assigned\\n\\n\\nM7V\\n\\nNot assigned\\n\\nNot assigned\\n\\n\\nM8V\\n\\nEtobicoke\\n\\nNew Toronto, Mimico South, Humber Bay Shores\\n\\n\\nM9V\\n\\nEtobicoke\\n\\nSouth Steeles, Silverstone, Humbergate, Jamestown, Mount Olive, Beaumond Heights, Thistletown, Albion Gardens\\n\\n\\nM1W\\n\\nScarborough\\n\\nSteeles West, L'Amoreaux West\\n\\n\\nM2W\\n\\nNot assigned\\n\\nNot assigned\\n\\n\\nM3W\\n\\nNot assigned\\n\\nNot assigned\\n\\n\\nM4W\\n\\nDowntown Toronto\\n\\nRosedale\\n\\n\\nM5W\\n\\nDowntown Toronto\\n\\nStn A PO Boxes\\n\\n\\nM6W\\n\\nNot assigned\\n\\nNot assigned\\n\\n\\nM7W\\n\\nNot assigned\\n\\nNot assigned\\n\\n\\nM8W\\n\\nEtobicoke\\n\\nAlderwood, Long Branch\\n\\n\\nM9W\\n\\nEtobicoke\\n\\nNorthwest, West Humber - Clairville\\n\\n\\nM1X\\n\\nScarborough\\n\\nUpper Rouge\\n\\n\\nM2X\\n\\nNot assigned\\n\\nNot assigned\\n\\n\\nM3X\\n\\nNot assigned\\n\\nNot assigned\\n\\n\\nM4X\\n\\nDowntown Toronto\\n\\nSt. James Town, Cabbagetown\\n\\n\\nM5X\\n\\nDowntown Toronto\\n\\nFirst Canadian Place, Underground city\\n\\n\\nM6X\\n\\nNot assigned\\n\\nNot assigned\\n\\n\\nM7X\\n\\nNot assigned\\n\\nNot assigned\\n\\n\\nM8X\\n\\nEtobicoke\\n\\nThe Kingsway, Montgomery Road, Old Mill North\\n\\n\\nM9X\\n\\nNot assigned\\n\\nNot assigned\\n\\n\\nM1Y\\n\\nNot assigned\\n\\nNot assigned\\n\\n\\nM2Y\\n\\nNot assigned\\n\\nNot assigned\\n\\n\\nM3Y\\n\\nNot assigned\\n\\nNot assigned\\n\\n\\nM4Y\\n\\nDowntown Toronto\\n\\nChurch and Wellesley\\n\\n\\nM5Y\\n\\nNot assigned\\n\\nNot assigned\\n\\n\\nM6Y\\n\\nNot assigned\\n\\nNot assigned\\n\\n\\nM7Y\\n\\nEast Toronto\\n\\nBusiness reply mail Processing Centre, South Central Letter Processing Plant Toronto\\n\\n\\nM8Y\\n\\nEtobicoke\\n\\nOld Mill South, King's Mill Park, Sunnylea, Humber Bay, Mimico NE, The Queensway East, Royal York South East, Kingsway Park South East\\n\\n\\nM9Y\\n\\nNot assigned\\n\\nNot assigned\\n\\n\\nM1Z\\n\\nNot assigned\\n\\nNot assigned\\n\\n\\nM2Z\\n\\nNot assigned\\n\\nNot assigned\\n\\n\\nM3Z\\n\\nNot assigned\\n\\nNot assigned\\n\\n\\nM4Z\\n\\nNot assigned\\n\\nNot assigned\\n\\n\\nM5Z\\n\\nNot assigned\\n\\nNot assigned\\n\\n\\nM6Z\\n\\nNot assigned\\n\\nNot assigned\\n\\n\\nM7Z\\n\\nNot assigned\\n\\nNot assigned\\n\\n\\nM8Z\\n\\nEtobicoke\\n\\nMimico NW, The Queensway West, South of Bloor, Kingsway Park South West, Royal York South West\\n\\n\\nM9Z\\n\\nNot assigned\\n\\nNot assigned\\n\""
      ]
     },
     "execution_count": 156,
     "metadata": {},
     "output_type": "execute_result"
    }
   ],
   "source": [
    "raw_table_texts"
   ]
  },
  {
   "cell_type": "code",
   "execution_count": 157,
   "metadata": {},
   "outputs": [],
   "source": [
    "table_t = raw_table_texts.splitlines()"
   ]
  },
  {
   "cell_type": "code",
   "execution_count": 158,
   "metadata": {},
   "outputs": [],
   "source": [
    "table2 = [i for i in table_t if i != '']"
   ]
  },
  {
   "cell_type": "code",
   "execution_count": 159,
   "metadata": {},
   "outputs": [],
   "source": [
    "ps_code = []\n",
    "bor = []\n",
    "n_hood =[]\n",
    "\n",
    "\n",
    "for i, row in enumerate(table2):\n",
    "    if i % 3 == 0:\n",
    "        ps_code.append(row)\n",
    "    elif (i + 1) % 3 == 0:\n",
    "        bor.append(row)\n",
    "    elif ((i + 1) + 1) % 3 ==0:\n",
    "        n_hood.append(row)\n",
    "    "
   ]
  },
  {
   "cell_type": "code",
   "execution_count": 160,
   "metadata": {},
   "outputs": [],
   "source": [
    "heading = []\n",
    "heading.append(ps_code[0])\n",
    "heading.append(bor[0])\n",
    "heading.append(n_hood[0])"
   ]
  },
  {
   "cell_type": "code",
   "execution_count": 161,
   "metadata": {},
   "outputs": [
    {
     "data": {
      "text/plain": [
       "['Postal Code', 'Neighborhood', 'Borough']"
      ]
     },
     "execution_count": 161,
     "metadata": {},
     "output_type": "execute_result"
    }
   ],
   "source": [
    "heading"
   ]
  },
  {
   "cell_type": "code",
   "execution_count": 162,
   "metadata": {},
   "outputs": [],
   "source": [
    "del(bor[0])\n",
    "del(n_hood[0])\n",
    "del(ps_code[0])"
   ]
  },
  {
   "cell_type": "code",
   "execution_count": 163,
   "metadata": {},
   "outputs": [],
   "source": [
    "df_t = pd.DataFrame(columns = heading )"
   ]
  },
  {
   "cell_type": "code",
   "execution_count": 164,
   "metadata": {},
   "outputs": [
    {
     "data": {
      "text/html": [
       "<div>\n",
       "<style scoped>\n",
       "    .dataframe tbody tr th:only-of-type {\n",
       "        vertical-align: middle;\n",
       "    }\n",
       "\n",
       "    .dataframe tbody tr th {\n",
       "        vertical-align: top;\n",
       "    }\n",
       "\n",
       "    .dataframe thead th {\n",
       "        text-align: right;\n",
       "    }\n",
       "</style>\n",
       "<table border=\"1\" class=\"dataframe\">\n",
       "  <thead>\n",
       "    <tr style=\"text-align: right;\">\n",
       "      <th></th>\n",
       "      <th>Postal Code</th>\n",
       "      <th>Neighborhood</th>\n",
       "      <th>Borough</th>\n",
       "    </tr>\n",
       "  </thead>\n",
       "  <tbody>\n",
       "  </tbody>\n",
       "</table>\n",
       "</div>"
      ],
      "text/plain": [
       "Empty DataFrame\n",
       "Columns: [Postal Code, Neighborhood, Borough]\n",
       "Index: []"
      ]
     },
     "execution_count": 164,
     "metadata": {},
     "output_type": "execute_result"
    }
   ],
   "source": [
    "df_t"
   ]
  },
  {
   "cell_type": "code",
   "execution_count": 165,
   "metadata": {},
   "outputs": [],
   "source": [
    "df_t['Postal Code'] = ps_code\n",
    "df_t['Neighborhood'] = n_hood\n",
    "df_t['Borough'] = bor\n"
   ]
  },
  {
   "cell_type": "code",
   "execution_count": 166,
   "metadata": {},
   "outputs": [
    {
     "data": {
      "text/html": [
       "<div>\n",
       "<style scoped>\n",
       "    .dataframe tbody tr th:only-of-type {\n",
       "        vertical-align: middle;\n",
       "    }\n",
       "\n",
       "    .dataframe tbody tr th {\n",
       "        vertical-align: top;\n",
       "    }\n",
       "\n",
       "    .dataframe thead th {\n",
       "        text-align: right;\n",
       "    }\n",
       "</style>\n",
       "<table border=\"1\" class=\"dataframe\">\n",
       "  <thead>\n",
       "    <tr style=\"text-align: right;\">\n",
       "      <th></th>\n",
       "      <th>Postal Code</th>\n",
       "      <th>Neighborhood</th>\n",
       "      <th>Borough</th>\n",
       "    </tr>\n",
       "  </thead>\n",
       "  <tbody>\n",
       "    <tr>\n",
       "      <th>0</th>\n",
       "      <td>M1A</td>\n",
       "      <td>Not assigned</td>\n",
       "      <td>Not assigned</td>\n",
       "    </tr>\n",
       "    <tr>\n",
       "      <th>1</th>\n",
       "      <td>M2A</td>\n",
       "      <td>Not assigned</td>\n",
       "      <td>Not assigned</td>\n",
       "    </tr>\n",
       "    <tr>\n",
       "      <th>2</th>\n",
       "      <td>M3A</td>\n",
       "      <td>North York</td>\n",
       "      <td>Parkwoods</td>\n",
       "    </tr>\n",
       "    <tr>\n",
       "      <th>3</th>\n",
       "      <td>M4A</td>\n",
       "      <td>North York</td>\n",
       "      <td>Victoria Village</td>\n",
       "    </tr>\n",
       "    <tr>\n",
       "      <th>4</th>\n",
       "      <td>M5A</td>\n",
       "      <td>Downtown Toronto</td>\n",
       "      <td>Regent Park, Harbourfront</td>\n",
       "    </tr>\n",
       "    <tr>\n",
       "      <th>...</th>\n",
       "      <td>...</td>\n",
       "      <td>...</td>\n",
       "      <td>...</td>\n",
       "    </tr>\n",
       "    <tr>\n",
       "      <th>175</th>\n",
       "      <td>M5Z</td>\n",
       "      <td>Not assigned</td>\n",
       "      <td>Not assigned</td>\n",
       "    </tr>\n",
       "    <tr>\n",
       "      <th>176</th>\n",
       "      <td>M6Z</td>\n",
       "      <td>Not assigned</td>\n",
       "      <td>Not assigned</td>\n",
       "    </tr>\n",
       "    <tr>\n",
       "      <th>177</th>\n",
       "      <td>M7Z</td>\n",
       "      <td>Not assigned</td>\n",
       "      <td>Not assigned</td>\n",
       "    </tr>\n",
       "    <tr>\n",
       "      <th>178</th>\n",
       "      <td>M8Z</td>\n",
       "      <td>Etobicoke</td>\n",
       "      <td>Mimico NW, The Queensway West, South of Bloor,...</td>\n",
       "    </tr>\n",
       "    <tr>\n",
       "      <th>179</th>\n",
       "      <td>M9Z</td>\n",
       "      <td>Not assigned</td>\n",
       "      <td>Not assigned</td>\n",
       "    </tr>\n",
       "  </tbody>\n",
       "</table>\n",
       "<p>180 rows × 3 columns</p>\n",
       "</div>"
      ],
      "text/plain": [
       "    Postal Code      Neighborhood  \\\n",
       "0           M1A      Not assigned   \n",
       "1           M2A      Not assigned   \n",
       "2           M3A        North York   \n",
       "3           M4A        North York   \n",
       "4           M5A  Downtown Toronto   \n",
       "..          ...               ...   \n",
       "175         M5Z      Not assigned   \n",
       "176         M6Z      Not assigned   \n",
       "177         M7Z      Not assigned   \n",
       "178         M8Z         Etobicoke   \n",
       "179         M9Z      Not assigned   \n",
       "\n",
       "                                               Borough  \n",
       "0                                         Not assigned  \n",
       "1                                         Not assigned  \n",
       "2                                            Parkwoods  \n",
       "3                                     Victoria Village  \n",
       "4                            Regent Park, Harbourfront  \n",
       "..                                                 ...  \n",
       "175                                       Not assigned  \n",
       "176                                       Not assigned  \n",
       "177                                       Not assigned  \n",
       "178  Mimico NW, The Queensway West, South of Bloor,...  \n",
       "179                                       Not assigned  \n",
       "\n",
       "[180 rows x 3 columns]"
      ]
     },
     "execution_count": 166,
     "metadata": {},
     "output_type": "execute_result"
    }
   ],
   "source": [
    "df_t"
   ]
  },
  {
   "cell_type": "code",
   "execution_count": 167,
   "metadata": {},
   "outputs": [],
   "source": [
    "df_t2 = df_t.loc[df_t['Neighborhood'] != 'Not assigned']"
   ]
  },
  {
   "cell_type": "code",
   "execution_count": 179,
   "metadata": {},
   "outputs": [],
   "source": [
    "df_t2.reset_index(drop=True, inplace = True)"
   ]
  },
  {
   "cell_type": "code",
   "execution_count": 182,
   "metadata": {},
   "outputs": [
    {
     "data": {
      "text/html": [
       "<div>\n",
       "<style scoped>\n",
       "    .dataframe tbody tr th:only-of-type {\n",
       "        vertical-align: middle;\n",
       "    }\n",
       "\n",
       "    .dataframe tbody tr th {\n",
       "        vertical-align: top;\n",
       "    }\n",
       "\n",
       "    .dataframe thead th {\n",
       "        text-align: right;\n",
       "    }\n",
       "</style>\n",
       "<table border=\"1\" class=\"dataframe\">\n",
       "  <thead>\n",
       "    <tr style=\"text-align: right;\">\n",
       "      <th></th>\n",
       "      <th>Postal Code</th>\n",
       "      <th>Neighborhood</th>\n",
       "      <th>Borough</th>\n",
       "    </tr>\n",
       "  </thead>\n",
       "  <tbody>\n",
       "    <tr>\n",
       "      <th>0</th>\n",
       "      <td>M3A</td>\n",
       "      <td>North York</td>\n",
       "      <td>Parkwoods</td>\n",
       "    </tr>\n",
       "    <tr>\n",
       "      <th>1</th>\n",
       "      <td>M4A</td>\n",
       "      <td>North York</td>\n",
       "      <td>Victoria Village</td>\n",
       "    </tr>\n",
       "    <tr>\n",
       "      <th>2</th>\n",
       "      <td>M5A</td>\n",
       "      <td>Downtown Toronto</td>\n",
       "      <td>Regent Park, Harbourfront</td>\n",
       "    </tr>\n",
       "    <tr>\n",
       "      <th>3</th>\n",
       "      <td>M6A</td>\n",
       "      <td>North York</td>\n",
       "      <td>Lawrence Manor, Lawrence Heights</td>\n",
       "    </tr>\n",
       "    <tr>\n",
       "      <th>4</th>\n",
       "      <td>M7A</td>\n",
       "      <td>Downtown Toronto</td>\n",
       "      <td>Queen's Park, Ontario Provincial Government</td>\n",
       "    </tr>\n",
       "    <tr>\n",
       "      <th>5</th>\n",
       "      <td>M9A</td>\n",
       "      <td>Etobicoke</td>\n",
       "      <td>Islington Avenue, Humber Valley Village</td>\n",
       "    </tr>\n",
       "    <tr>\n",
       "      <th>6</th>\n",
       "      <td>M1B</td>\n",
       "      <td>Scarborough</td>\n",
       "      <td>Malvern, Rouge</td>\n",
       "    </tr>\n",
       "    <tr>\n",
       "      <th>7</th>\n",
       "      <td>M3B</td>\n",
       "      <td>North York</td>\n",
       "      <td>Don Mills</td>\n",
       "    </tr>\n",
       "    <tr>\n",
       "      <th>8</th>\n",
       "      <td>M4B</td>\n",
       "      <td>East York</td>\n",
       "      <td>Parkview Hill, Woodbine Gardens</td>\n",
       "    </tr>\n",
       "    <tr>\n",
       "      <th>9</th>\n",
       "      <td>M5B</td>\n",
       "      <td>Downtown Toronto</td>\n",
       "      <td>Garden District, Ryerson</td>\n",
       "    </tr>\n",
       "    <tr>\n",
       "      <th>10</th>\n",
       "      <td>M6B</td>\n",
       "      <td>North York</td>\n",
       "      <td>Glencairn</td>\n",
       "    </tr>\n",
       "    <tr>\n",
       "      <th>11</th>\n",
       "      <td>M9B</td>\n",
       "      <td>Etobicoke</td>\n",
       "      <td>West Deane Park, Princess Gardens, Martin Grov...</td>\n",
       "    </tr>\n",
       "  </tbody>\n",
       "</table>\n",
       "</div>"
      ],
      "text/plain": [
       "   Postal Code      Neighborhood  \\\n",
       "0          M3A        North York   \n",
       "1          M4A        North York   \n",
       "2          M5A  Downtown Toronto   \n",
       "3          M6A        North York   \n",
       "4          M7A  Downtown Toronto   \n",
       "5          M9A         Etobicoke   \n",
       "6          M1B       Scarborough   \n",
       "7          M3B        North York   \n",
       "8          M4B         East York   \n",
       "9          M5B  Downtown Toronto   \n",
       "10         M6B        North York   \n",
       "11         M9B         Etobicoke   \n",
       "\n",
       "                                              Borough  \n",
       "0                                           Parkwoods  \n",
       "1                                    Victoria Village  \n",
       "2                           Regent Park, Harbourfront  \n",
       "3                    Lawrence Manor, Lawrence Heights  \n",
       "4         Queen's Park, Ontario Provincial Government  \n",
       "5             Islington Avenue, Humber Valley Village  \n",
       "6                                      Malvern, Rouge  \n",
       "7                                           Don Mills  \n",
       "8                     Parkview Hill, Woodbine Gardens  \n",
       "9                            Garden District, Ryerson  \n",
       "10                                          Glencairn  \n",
       "11  West Deane Park, Princess Gardens, Martin Grov...  "
      ]
     },
     "execution_count": 182,
     "metadata": {},
     "output_type": "execute_result"
    }
   ],
   "source": [
    "df_t2.head(12)"
   ]
  }
 ],
 "metadata": {
  "kernelspec": {
   "display_name": "Python",
   "language": "python",
   "name": "conda-env-python-py"
  },
  "language_info": {
   "codemirror_mode": {
    "name": "ipython",
    "version": 3
   },
   "file_extension": ".py",
   "mimetype": "text/x-python",
   "name": "python",
   "nbconvert_exporter": "python",
   "pygments_lexer": "ipython3",
   "version": "3.6.10"
  }
 },
 "nbformat": 4,
 "nbformat_minor": 4
}
