{
 "cells": [
  {
   "cell_type": "markdown",
   "metadata": {},
   "source": [
    "## **Peer-graded Assignment: Capstone Project - The Battle of Neighborhoods (Week 1)  part 1** "
   ]
  },
  {
   "cell_type": "markdown",
   "metadata": {},
   "source": [
    "#### Objective: \n",
    "######  Clearly define a problem or an idea of your choice, where you would need to leverage the Foursquare location data to solve or execute. Remember that data science problems always target an audience and are meant to help a group of stakeholders solve a problem, so make sure that you explicitly describe your audience and why they would care about your problem."
   ]
  },
  {
   "cell_type": "markdown",
   "metadata": {},
   "source": [
    "\n"
   ]
  },
  {
   "cell_type": "markdown",
   "metadata": {},
   "source": [
    "##### In my Peer-graded Assignment: Capstone Project - The Battle of Neighborhoods (Week 1) I decided to focus on London city. In this project I will focus on analyzing which area in London has the most amount of vegan restaurants. To do so I will use Foursquare location data. "
   ]
  },
  {
   "cell_type": "markdown",
   "metadata": {},
   "source": [
    "##### This capstone project starts with extracting London postal districts information from a Wikipedia web-page:\n",
    "https://en.wikipedia.org/wiki/London_postal_district"
   ]
  },
  {
   "cell_type": "markdown",
   "metadata": {},
   "source": [
    "##### Next I will add the longitude and latitude to each postcode out-codes in London. These data were donloaded from Freemaptools.com\n",
    "https://www.freemaptools.com/download-uk-postcode-lat-lng.htm"
   ]
  },
  {
   "cell_type": "markdown",
   "metadata": {},
   "source": [
    "##### After that I will connect with the foursquare depository and map out vegan restaurants, which would lead to conclusions. "
   ]
  },
  {
   "cell_type": "markdown",
   "metadata": {},
   "source": [
    "##### In effect vegan restaurants in London will be mapped out and the most \"veganised\" area will be discovered. "
   ]
  },
  {
   "cell_type": "markdown",
   "metadata": {},
   "source": [
    "##### DISCLAIMER: Due to a Covid-19 most of the places do take away and deliveries. So I decided to not include opening and closing times and costumer turnout in the analysis. "
   ]
  }
 ],
 "metadata": {
  "kernelspec": {
   "display_name": "Python",
   "language": "python",
   "name": "conda-env-python-py"
  },
  "language_info": {
   "codemirror_mode": {
    "name": "ipython",
    "version": 3
   },
   "file_extension": ".py",
   "mimetype": "text/x-python",
   "name": "python",
   "nbconvert_exporter": "python",
   "pygments_lexer": "ipython3",
   "version": "3.6.10"
  }
 },
 "nbformat": 4,
 "nbformat_minor": 4
}
